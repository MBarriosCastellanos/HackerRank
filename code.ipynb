{
 "cells": [
  {
   "cell_type": "markdown",
   "id": "368833dd",
   "metadata": {},
   "source": [
    "# inherent class"
   ]
  },
  {
   "cell_type": "code",
   "execution_count": 1,
   "id": "1bef16e0",
   "metadata": {},
   "outputs": [
    {
     "name": "stdout",
     "output_type": "stream",
     "text": [
      "Name: Memelli, Heraldo\n",
      "ID: 8135627\n"
     ]
    },
    {
     "data": {
      "text/plain": [
       "'O'"
      ]
     },
     "execution_count": 1,
     "metadata": {},
     "output_type": "execute_result"
    }
   ],
   "source": [
    "class Person:\n",
    "\tdef __init__(self, firstName, lastName, idNumber):\n",
    "\t\tself.firstName = firstName\n",
    "\t\tself.lastName = lastName\n",
    "\t\tself.idNumber = idNumber\n",
    "\tdef printPerson(self):\n",
    "\t\tprint(\"Name:\", self.lastName + \",\", self.firstName)\n",
    "\t\tprint(\"ID:\", self.idNumber)\n",
    "class Student(Person):\n",
    "  def __init__(self, firstName, lastName, idNumber, scores):\n",
    "    super().__init__( firstName, lastName, idNumber)\n",
    "    self.scores = scores\n",
    "  def calculate(self):\n",
    "    grade = sum(self.scores)/len(self.scores)\n",
    "    if grade < 40:\n",
    "      return 'T'\n",
    "    elif grade < 55:\n",
    "      return 'D'\n",
    "    elif grade < 70:\n",
    "      return 'P'\n",
    "    elif grade < 80:\n",
    "      return 'A'\n",
    "    elif grade < 90:\n",
    "      return 'E'\n",
    "    else:\n",
    "      return 'O'\n",
    "\n",
    "s = Student('Heraldo', 'Memelli', '8135627', [100, 80])\n",
    "s.printPerson()\n",
    "s.calculate()"
   ]
  },
  {
   "cell_type": "markdown",
   "id": "e62436aa",
   "metadata": {},
   "source": [
    "# abstract class"
   ]
  },
  {
   "cell_type": "code",
   "execution_count": 2,
   "id": "4e8e3309",
   "metadata": {},
   "outputs": [
    {
     "name": "stdout",
     "output_type": "stream",
     "text": [
      "Title: The Alchemist\n",
      "Author: Paulo Coelho\n",
      "Price: 248\n"
     ]
    }
   ],
   "source": [
    "from abc import ABCMeta, abstractmethod\n",
    "class Book(object, metaclass=ABCMeta):\n",
    "  def __init__(self,title,author):\n",
    "    self.title=title\n",
    "    self.author=author   \n",
    "  @abstractmethod\n",
    "  def display(): pass\n",
    "class MyBook(Book):\n",
    "  price = 0\n",
    "  def __init__(self, title, author, price):\n",
    "    super().__init__(title, author)\n",
    "    self.price = price\n",
    "  def display(self):\n",
    "    print('Title: %s'%self.title)\n",
    "    print('Author: %s'%self.author)\n",
    "    print('Price: %s'%self.price)\n",
    "title='The Alchemist'\n",
    "author='Paulo Coelho'\n",
    "price=int(248)\n",
    "new_novel=MyBook(title,author,price)\n",
    "new_novel.display()"
   ]
  },
  {
   "cell_type": "markdown",
   "id": "6e8bb507",
   "metadata": {},
   "source": [
    "# Linked list"
   ]
  },
  {
   "cell_type": "code",
   "execution_count": 3,
   "id": "0f4afddc",
   "metadata": {},
   "outputs": [
    {
     "name": "stdout",
     "output_type": "stream",
     "text": [
      "2 3 4 1 "
     ]
    }
   ],
   "source": [
    "# linked list\n",
    "class Node:\n",
    "  def __init__(self,data):\n",
    "    self.data = data\n",
    "    self.next = None \n",
    "class Solution: \n",
    "  def display(self,head):\n",
    "    current = head\n",
    "    while current:\n",
    "      print(current.data,end=' ')\n",
    "      current = current.next\n",
    "\n",
    "  def insert(self,head,data):  \n",
    "    if head==None:\n",
    "      head = Node(data)\n",
    "    else:\n",
    "      node = head\n",
    "      while node.next:\n",
    "        node = node.next\n",
    "      else:\n",
    "        node.next = Node(data)\n",
    "    return head\n",
    "\n",
    "mylist= Solution()\n",
    "Data = [2, 3, 4, 1]\n",
    "head=None\n",
    "for data in Data:\n",
    "    head=mylist.insert(head,data)   \n",
    "mylist.display(head); \t  "
   ]
  },
  {
   "cell_type": "markdown",
   "id": "23b30242",
   "metadata": {},
   "source": [
    "# Day 16 Exeptions"
   ]
  },
  {
   "cell_type": "code",
   "execution_count": 4,
   "id": "ade2dfaa",
   "metadata": {},
   "outputs": [
    {
     "name": "stdout",
     "output_type": "stream",
     "text": [
      "Bad String\n"
     ]
    }
   ],
   "source": [
    "S = 'input()'\n",
    "try: \n",
    "  n = int(S) \n",
    "  print(n)\n",
    "except ValueError:\n",
    "  print('Bad String')"
   ]
  },
  {
   "cell_type": "markdown",
   "id": "ceffa52c",
   "metadata": {},
   "source": [
    "# Decorations"
   ]
  },
  {
   "cell_type": "code",
   "execution_count": 5,
   "id": "604f0d50",
   "metadata": {},
   "outputs": [
    {
     "name": "stdout",
     "output_type": "stream",
     "text": [
      "Mr. Mike Thomson\n",
      "Ms. Andria Bustle\n",
      "Mr. Robert Bustle\n"
     ]
    }
   ],
   "source": [
    "\n",
    "idade = lambda x: x[2]\n",
    "def person_lister(f):\n",
    "    def inner(people):\n",
    "        # complete the function\n",
    "        return map(f, sorted(people, key=idade))          \n",
    "    return inner\n",
    "\n",
    "@person_lister\n",
    "def name_format(person):\n",
    "    return (\"Mr. \" if person[3] == \"M\" else \"Ms. \") + person[0] + \" \" + person[1]\n",
    "\n",
    "people = [['Mike', 'Thomson', '20', 'M'], ['Robert', 'Bustle', '32', 'M'], ['Andria', 'Bustle', '30', 'F']]\n",
    "print ('\\n'.join(name_format(people)))\n",
    "\n"
   ]
  },
  {
   "cell_type": "markdown",
   "id": "3c6c873d",
   "metadata": {},
   "source": [
    "## Day 11 HourGlasses"
   ]
  },
  {
   "cell_type": "code",
   "execution_count": 6,
   "id": "cbbefb0c",
   "metadata": {},
   "outputs": [
    {
     "name": "stdout",
     "output_type": "stream",
     "text": [
      "19\n"
     ]
    }
   ],
   "source": [
    "#!/bin/python3\n",
    "\n",
    "import math\n",
    "import os\n",
    "import random\n",
    "import re\n",
    "import sys\n",
    "\n",
    "if __name__ == '__main__':\n",
    "  arr = []\n",
    "  #for _ in range(6):\n",
    "  #  arr.append(list(map(int, input().rstrip().split())))\n",
    "  arr = [\n",
    "    [1, 1, 1, 0, 0, 0],\n",
    "    [0, 1, 0, 0, 0, 0],\n",
    "    [1, 1, 1, 0, 0, 0],\n",
    "    [0, 0, 2, 4, 4, 0],\n",
    "    [0, 0, 0, 2, 0, 0],\n",
    "    [0, 0, 1, 2, 4, 0]\n",
    "  ]\n",
    "  l = len(arr)\n",
    "  hourglass_max = -1e300\n",
    "  for i  in range(l-2):\n",
    "    for j in range(l-2):   \n",
    "      hourglass = sum(arr[i][j:j+3]) + arr[i+1][j+1] + sum(arr[i+2][j:j+3])\n",
    "      if hourglass> hourglass_max:\n",
    "        hourglass_max = hourglass\n",
    "      \n",
    "print(hourglass_max)"
   ]
  },
  {
   "cell_type": "markdown",
   "id": "b2915f1e",
   "metadata": {},
   "source": [
    "# More Exceptions"
   ]
  },
  {
   "cell_type": "code",
   "execution_count": 7,
   "id": "1471355c",
   "metadata": {},
   "outputs": [
    {
     "name": "stdout",
     "output_type": "stream",
     "text": [
      "81\n",
      "n and p should be non-negative\n",
      "n and p should be non-negative\n",
      "n and p should be non-negative\n"
     ]
    }
   ],
   "source": [
    "#Write your code here\n",
    "class Calculator(object):\n",
    "  def __init__(self):\n",
    "    pass\n",
    "  def power(self, n, p):\n",
    "    if n>=0 and p>=0:\n",
    "      return n**p\n",
    "    else:\n",
    "      raise ValueError('n and p should be non-negative')\n",
    "#e = 'n and p should be non-negative'\n",
    "\n",
    "\n",
    "myCalculator=Calculator()\n",
    "T=4\n",
    "data = [[3, 4],  [-3, -5], [-3, 5], [3, -5]]\n",
    "for i in range(T):\n",
    "  n,p = data[i]\n",
    "  try:\n",
    "    ans=myCalculator.power(n,p)\n",
    "    print(ans)\n",
    "  except Exception as e:\n",
    "    print(e)   "
   ]
  },
  {
   "cell_type": "markdown",
   "id": "c8195942",
   "metadata": {},
   "source": []
  },
  {
   "cell_type": "markdown",
   "id": "1d49a0bf",
   "metadata": {},
   "source": [
    "# Day 18: Queues and Stacks"
   ]
  },
  {
   "cell_type": "code",
   "execution_count": 32,
   "id": "f1c9771d",
   "metadata": {},
   "outputs": [
    {
     "name": "stdout",
     "output_type": "stream",
     "text": [
      "The word, yes, is not a palindrome.\n"
     ]
    }
   ],
   "source": [
    "import sys\n",
    "\n",
    "class Solution(object):\n",
    "  # Write your code here\n",
    "  def __init__(self):\n",
    "    self.stack = []\n",
    "    self.queue = []\n",
    "  def pushCharacter(self, s):\n",
    "    self.stack.append(s)\n",
    "  def enqueueCharacter(self, s):\n",
    "    self.queue.append(s)\n",
    "  def popCharacter(self):\n",
    "    return self.stack.pop(-1)\n",
    "  def dequeueCharacter(self):\n",
    "    return self.queue.pop(0)\n",
    "\n",
    "  \n",
    "# read the string s\n",
    "s='yes'\n",
    "#Create the Solution class object\n",
    "obj=Solution()   \n",
    "\n",
    "l=len(s)\n",
    "# push/enqueue all the characters of string s to stack\n",
    "for i in range(l):\n",
    "  obj.pushCharacter(s[i])\n",
    "  obj.enqueueCharacter(s[i])\n",
    "    \n",
    "isPalindrome=True\n",
    "'''\n",
    "pop the top character from stack\n",
    "dequeue the first character from queue\n",
    "compare both the characters\n",
    "''' \n",
    "for i in range(l // 2):\n",
    "  if obj.popCharacter()!=obj.dequeueCharacter():\n",
    "    isPalindrome=False\n",
    "    break\n",
    "#finally print whether string s is palindrome or not.\n",
    "if isPalindrome:\n",
    "  print(\"The word, \"+s+\", is a palindrome.\")\n",
    "else:\n",
    "  print(\"The word, \"+s+\", is not a palindrome.\") "
   ]
  },
  {
   "cell_type": "code",
   "execution_count": 34,
   "id": "a15606aa",
   "metadata": {},
   "outputs": [
    {
     "ename": "ValueError",
     "evalue": "empty separator",
     "output_type": "error",
     "traceback": [
      "\u001b[0;31m---------------------------------------------------------------------------\u001b[0m",
      "\u001b[0;31mValueError\u001b[0m                                Traceback (most recent call last)",
      "\u001b[1;32m/media/d/study/phd/Cursos/Hacker/code.ipynb Cell 18'\u001b[0m in \u001b[0;36m<cell line: 1>\u001b[0;34m()\u001b[0m\n\u001b[0;32m----> <a href='vscode-notebook-cell:/media/d/study/phd/Cursos/Hacker/code.ipynb#ch0000018?line=0'>1</a>\u001b[0m \u001b[39m'\u001b[39;49m\u001b[39mabc\u001b[39;49m\u001b[39m'\u001b[39;49m\u001b[39m.\u001b[39;49msplit(\u001b[39m'\u001b[39;49m\u001b[39m'\u001b[39;49m)\n",
      "\u001b[0;31mValueError\u001b[0m: empty separator"
     ]
    }
   ],
   "source": [
    "'abc'.split('')"
   ]
  },
  {
   "cell_type": "code",
   "execution_count": 23,
   "id": "c47affa6",
   "metadata": {},
   "outputs": [
    {
     "data": {
      "text/plain": [
       "['r', 'a', 'c', 'e', 'c', 'a', 'r']"
      ]
     },
     "execution_count": 23,
     "metadata": {},
     "output_type": "execute_result"
    }
   ],
   "source": [
    "abc = obj.queue\n",
    "abc"
   ]
  },
  {
   "cell_type": "code",
   "execution_count": 37,
   "id": "61ec42e2",
   "metadata": {},
   "outputs": [
    {
     "data": {
      "text/plain": [
       "'abrackdabra'"
      ]
     },
     "execution_count": 37,
     "metadata": {},
     "output_type": "execute_result"
    }
   ],
   "source": [
    "string = 'abracadabra'\n",
    "character = 'k'\n",
    "position= 5\n",
    "\n",
    "''.join([s if i!=position else character for i, s in enumerate(string)])"
   ]
  },
  {
   "cell_type": "code",
   "execution_count": 25,
   "id": "c75ab5d9",
   "metadata": {},
   "outputs": [
    {
     "data": {
      "text/plain": [
       "['r', 'a', 'c', 'e', 'c', 'a']"
      ]
     },
     "execution_count": 25,
     "metadata": {},
     "output_type": "execute_result"
    }
   ],
   "source": [
    "abc"
   ]
  },
  {
   "cell_type": "code",
   "execution_count": 26,
   "id": "0cff456f",
   "metadata": {},
   "outputs": [
    {
     "data": {
      "text/plain": [
       "'r'"
      ]
     },
     "execution_count": 26,
     "metadata": {},
     "output_type": "execute_result"
    }
   ],
   "source": [
    "b = abc.pop(0)\n",
    "b"
   ]
  },
  {
   "cell_type": "code",
   "execution_count": 27,
   "id": "492367c2",
   "metadata": {},
   "outputs": [
    {
     "data": {
      "text/plain": [
       "['a', 'c', 'e', 'c', 'a']"
      ]
     },
     "execution_count": 27,
     "metadata": {},
     "output_type": "execute_result"
    }
   ],
   "source": [
    "abc"
   ]
  },
  {
   "cell_type": "code",
   "execution_count": null,
   "id": "f7b9debb",
   "metadata": {},
   "outputs": [],
   "source": []
  }
 ],
 "metadata": {
  "interpreter": {
   "hash": "1f386286da8fb93a24d26f8c525392020acf295f98d16f04efa07bd1460f1f53"
  },
  "kernelspec": {
   "display_name": "Python 3.8.11 ('base')",
   "language": "python",
   "name": "python3"
  },
  "language_info": {
   "codemirror_mode": {
    "name": "ipython",
    "version": 3
   },
   "file_extension": ".py",
   "mimetype": "text/x-python",
   "name": "python",
   "nbconvert_exporter": "python",
   "pygments_lexer": "ipython3",
   "version": "3.8.11"
  }
 },
 "nbformat": 4,
 "nbformat_minor": 5
}
