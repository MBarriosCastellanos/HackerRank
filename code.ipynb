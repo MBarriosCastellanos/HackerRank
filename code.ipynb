{
 "cells": [
  {
   "cell_type": "markdown",
   "id": "a61db99a",
   "metadata": {},
   "source": [
    "# Introduction"
   ]
  },
  {
   "cell_type": "markdown",
   "id": "87ccebd7",
   "metadata": {},
   "source": [
    "## Day 0: Hello World"
   ]
  },
  {
   "cell_type": "markdown",
   "id": "ed6f1f89",
   "metadata": {},
   "source": [
    "To complete this challenge, you must save a line of input from stdin to a variable, print Hello, World. on a single line, and finally print the value of your variable on a second line.\n",
    "\n",
    "You've got this!\n",
    "\n",
    "Note: The instructions are Java-based, but we support submissions in many popular languages. You can switch languages using the drop-down menu above your editor, and the $inputString$\n",
    "variable may be written differently depending on the best-practice conventions of your submission language"
   ]
  },
  {
   "cell_type": "code",
   "execution_count": 1,
   "id": "620899c5",
   "metadata": {},
   "outputs": [
    {
     "name": "stdout",
     "output_type": "stream",
     "text": [
      "Hello, World.\n"
     ]
    }
   ],
   "source": [
    "print('Hello, World.')"
   ]
  },
  {
   "cell_type": "markdown",
   "id": "845a71b2",
   "metadata": {},
   "source": [
    "## Day 1: Data Types"
   ]
  },
  {
   "cell_type": "markdown",
   "id": "f1dc7b6a",
   "metadata": {},
   "source": [
    "Complete the code in the editor below. The variables $i$, $d$, and $s$\n",
    "\n",
    "are already declared and initialized for you. You must:\n",
    "\n",
    "  1.  Declare variables: one of type int, one of type double, and one of type String.\n",
    "  2. Read lines of input from stdin (according to the sequence given in the Input Format section below) and initialize your 3 variables.\n",
    "  3. Use the + operator to perform the following operations:\n",
    "    - Print the sum of $i$ plus your int variable on a new line.\n",
    "    - Print the sum of $d$ plus your double variable to a scale of one decimal place on a new line.\n",
    "    - Concatenate $s$ with the string you read as input and print the result on a new line. "
   ]
  },
  {
   "cell_type": "code",
   "execution_count": 2,
   "id": "5a9dba17",
   "metadata": {},
   "outputs": [
    {
     "name": "stdout",
     "output_type": "stream",
     "text": [
      "16\n",
      "8.0\n",
      "HackerRankis the best place to learn and practice coding!\n"
     ]
    }
   ],
   "source": [
    "ii = 12\n",
    "dd = 4.0\n",
    "ss = 'is the best place to learn and practice coding!'\n",
    "# Read and save an integer, double, and String to your variables.\n",
    "\n",
    "print(4 + ii)\n",
    "# Print the sum of both integer variables on a new line.\n",
    "\n",
    "print(4.0 + dd)\n",
    "# Print the sum of the double variables on a new line.\n",
    "\n",
    "print('HackerRank' + ss)\n",
    "# Concatenate and print the String variables on a new line\n",
    "# The 's' variable above should be printed first."
   ]
  },
  {
   "cell_type": "markdown",
   "id": "5f207da9",
   "metadata": {},
   "source": [
    "## Day 2: Operators"
   ]
  },
  {
   "cell_type": "markdown",
   "id": "11b56860",
   "metadata": {},
   "source": [
    "Given the meal price (base cost of a meal), tip percent (the percentage of the meal price being added as tip), and tax percent (the percentage of the meal price being added as tax) for a meal, find and print the meal's total cost. Round the result to the nearest integer."
   ]
  },
  {
   "cell_type": "code",
   "execution_count": 3,
   "id": "ea60240e",
   "metadata": {},
   "outputs": [
    {
     "name": "stdout",
     "output_type": "stream",
     "text": [
      "15\n"
     ]
    }
   ],
   "source": [
    "def solve(meal_cost, tip_percent, tax_percent):\n",
    "  # Write your code here\n",
    "  tip = meal_cost*tip_percent/100\n",
    "  tax = meal_cost*tax_percent/100\n",
    "  total_cost = meal_cost + tip + tax\n",
    "  return round(total_cost)\n",
    "\n",
    "if __name__ == '__main__':\n",
    "  meal_cost = 12.0\n",
    "\n",
    "  tip_percent = 20\n",
    "\n",
    "  tax_percent = 8\n",
    "\n",
    "  s = solve(meal_cost, tip_percent, tax_percent)\n",
    "  print(s)\n"
   ]
  },
  {
   "cell_type": "markdown",
   "id": "d9de3ce3",
   "metadata": {},
   "source": [
    "## Day 3: Intro to Conditional Statements"
   ]
  },
  {
   "cell_type": "markdown",
   "id": "d6e3864f",
   "metadata": {},
   "source": [
    "Given an integer, $n$, perform the following conditional actions:\n",
    "\n",
    "- If $n$ is odd, print Weird\n",
    "- If $n$ is even and in the inclusive range of $2$ to $5$, print Not Weird\n",
    "- If $n$ is even and in the inclusive range of $6$ to $10$, print Weird\n",
    "- If $n$ is even and greater than $20$, print Not Weird\n",
    "\n",
    "Complete the stub code provided in your editor to print whether or not\n",
    "is weird."
   ]
  },
  {
   "cell_type": "code",
   "execution_count": 4,
   "id": "ffd31f97",
   "metadata": {},
   "outputs": [
    {
     "name": "stdout",
     "output_type": "stream",
     "text": [
      "Weird\n"
     ]
    }
   ],
   "source": [
    "import math\n",
    "import os\n",
    "import random\n",
    "import re\n",
    "import sys\n",
    "\n",
    "if __name__ == '__main__':\n",
    "  N = 3 #int(input().strip())\n",
    "  if (N % 2 ==1) or (N % 2 ==0 and N>=6 and N<=20):\n",
    "    print('Weird')\n",
    "  else: #(N % 2 ==0) and ((N>=2 and N<=5) or (N>20)) :\n",
    "    print('Not Weird')"
   ]
  },
  {
   "cell_type": "markdown",
   "id": "a1ce9632",
   "metadata": {},
   "source": [
    "## Day 4: Class vs. Instance"
   ]
  },
  {
   "cell_type": "markdown",
   "id": "6be8cfa5",
   "metadata": {},
   "source": [
    "Write a Person class with an instance variable, $age$, and a constructor that takes an integer, $initial Age$, as a parameter. The constructor must assign $initial Age$ to after $Age$ confirming the argument passed as $initial Age$ is not negative; if a negative argument is passed as $initial Age$, the constructor should set $Age$ to $0$ and print $Age is not valid$, \"setting age to 0.\". In addition, you must write the following instance methods:\n",
    "\n",
    "1. yearPasses() should increase the $age$ instance variable by $1$.\n",
    "2. amIOld() should perform the following conditional actions:\n",
    "\n",
    "  - If $age$ < 13 print You are young..\n",
    "  - If $age$ >= 13 and $age$ < 18, print You are a teenager..\n",
    "  - Otherwise, print You are old..\n",
    "\n",
    "To help you learn by example and complete this challenge, much of the code is provided for you, but you'll be writing everything in the future. The code that creates each instance of your Person class is in the main method. Don't worry if you don't understand it all quite yet!\n",
    "\n",
    "Note: Do not remove or alter the stub code in the editor."
   ]
  },
  {
   "cell_type": "code",
   "execution_count": 5,
   "id": "770f4756",
   "metadata": {},
   "outputs": [],
   "source": [
    "class Person:\n",
    "  def __init__(self,initialAge):\n",
    "    self.age = initialAge\n",
    "    if self.age < 0:\n",
    "      self.age = 0\n",
    "      print('Age is not valid, setting age to 0.')\n",
    "    # Add some more code to run some checks on initialAge\n",
    "  def amIOld(self):\n",
    "    # Do some computations in here and print out the correct statement to the console\n",
    "    if self.age < 13:\n",
    "      print('You are young.')\n",
    "    elif self.age < 18:\n",
    "      print('You are a teenager.')\n",
    "    else:\n",
    "      print('You are old.')    \n",
    "  def yearPasses(self):\n",
    "    self.age += 1  \n",
    "    # Increment the age of the person in here"
   ]
  },
  {
   "cell_type": "markdown",
   "id": "fcc0522d",
   "metadata": {},
   "source": [
    "## Day 5 Loops"
   ]
  },
  {
   "cell_type": "markdown",
   "id": "f56a109f",
   "metadata": {},
   "source": [
    "Given an integer $n$, , print its first 10 multiples. Each $n \\times i$ multiple (where $1<= i < 10$) should be printed on a new line in the form: n $\\times$ i = result."
   ]
  },
  {
   "cell_type": "code",
   "execution_count": 6,
   "id": "c046b727",
   "metadata": {},
   "outputs": [
    {
     "name": "stdout",
     "output_type": "stream",
     "text": [
      "15 x 1 = 15\n",
      "15 x 2 = 30\n",
      "15 x 3 = 45\n",
      "15 x 4 = 60\n",
      "15 x 5 = 75\n",
      "15 x 6 = 90\n",
      "15 x 7 = 105\n",
      "15 x 8 = 120\n",
      "15 x 9 = 135\n",
      "15 x 10 = 150\n"
     ]
    }
   ],
   "source": [
    "import math\n",
    "import os\n",
    "import random\n",
    "import re\n",
    "import sys\n",
    "\n",
    "if __name__ == '__main__':\n",
    "  n = 15#int(input().strip())\n",
    "  for i in range(10):\n",
    "    print( '%s x %s = %s'%(n, i + 1, n*(i+1) ) )\n"
   ]
  },
  {
   "cell_type": "markdown",
   "id": "c624c206",
   "metadata": {},
   "source": [
    "## Day 6: Let's Review"
   ]
  },
  {
   "cell_type": "markdown",
   "id": "6e9db27b",
   "metadata": {},
   "source": [
    "Given a string, $S$, of length $N$ that is indexed from $0$ to $N - 1$, print its even-indexed and odd-indexed characters as $2$ space-separated strings on a single line (see the Sample below for more detail).\n",
    "\n",
    "Note: $0$ is considered to be an even index. "
   ]
  },
  {
   "cell_type": "code",
   "execution_count": 7,
   "id": "53d252c0",
   "metadata": {},
   "outputs": [
    {
     "name": "stdout",
     "output_type": "stream",
     "text": [
      "Hce akr\n",
      "Rn ak\n"
     ]
    }
   ],
   "source": [
    "T = 2#int(input())\n",
    "ss = ['Hacker', 'Rank']\n",
    "for i in range(T):\n",
    "  S = ss[i] #str(input())\n",
    "  sa = ''.join([s for i, s in enumerate(S) if i%2 ==0])\n",
    "  sb = ''.join([s for i, s in enumerate(S) if i%2 ==1])\n",
    "  print('%s %s'%(sa, sb))"
   ]
  },
  {
   "cell_type": "markdown",
   "id": "161aa487",
   "metadata": {},
   "source": [
    "# Data types"
   ]
  },
  {
   "cell_type": "markdown",
   "id": "52c9521c",
   "metadata": {},
   "source": [
    "## Day 7: Arrays"
   ]
  },
  {
   "cell_type": "markdown",
   "id": "cae0d9fe",
   "metadata": {},
   "source": [
    "Given an array, $A$, of $N$ integers, print $A$'s elements in reverse order as a single line of space-separated numbers. "
   ]
  },
  {
   "cell_type": "code",
   "execution_count": 8,
   "id": "8f258f67",
   "metadata": {},
   "outputs": [
    {
     "name": "stdout",
     "output_type": "stream",
     "text": [
      "4 3 2\n"
     ]
    }
   ],
   "source": [
    "import math\n",
    "import os\n",
    "import random\n",
    "import re\n",
    "import sys\n",
    "\n",
    "if __name__ == '__main__':\n",
    "  n = 13#int(input().strip())\n",
    "  arr = [2, 3, 4]#list(map(int, input().rstrip().split()))\n",
    "  print(' '.join( [str(i) for i in arr[::-1]]))\n"
   ]
  },
  {
   "cell_type": "markdown",
   "id": "69c80a0f",
   "metadata": {},
   "source": [
    "## Day 8: Dictionaries and Maps"
   ]
  },
  {
   "cell_type": "markdown",
   "id": "6b62ddbb",
   "metadata": {},
   "source": [
    "Given $n$ names and phone numbers, assemble a phone book that maps friends' names to their respective phone numbers. You will then be given an unknown number of names to query your phone book for. For each $name$ queried, print the associated entry from your phone book on a new line in the form name=phoneNumber; if an entry for $name$ is not found, print Not found instead.\n",
    "\n",
    "Note: Your phone book should be a Dictionary/Map/HashMap data structure. "
   ]
  },
  {
   "cell_type": "code",
   "execution_count": 9,
   "id": "925d9562",
   "metadata": {},
   "outputs": [
    {
     "name": "stdout",
     "output_type": "stream",
     "text": [
      "sam=99912222\n",
      "Not found\n",
      "harry=12299933\n"
     ]
    }
   ],
   "source": [
    "n = 3#int(input())\n",
    "N = ['sam 99912222', 'tom 11122222', 'harry 12299933']\n",
    "names = ['sam', 'edward', 'harry']; k = 0\n",
    "Dict = {}\n",
    "for i in range(n):\n",
    "  nn = N[i].split(' ') #input().split(' ')\n",
    "  Dict[nn[0]]= int(nn[1])\n",
    "status = True\n",
    "while status:\n",
    "  try:\n",
    "    name = names[k]#input()\n",
    "    if name in Dict.keys():\n",
    "      print('%s=%s'%(name, Dict[name]))\n",
    "    else:\n",
    "      print('Not found')\n",
    "  except:\n",
    "    status = False\n",
    "  k +=1"
   ]
  },
  {
   "cell_type": "markdown",
   "id": "39c67fc8",
   "metadata": {},
   "source": [
    "## Day 9: Recursion 3 "
   ]
  },
  {
   "cell_type": "markdown",
   "id": "4034345a",
   "metadata": {},
   "source": [
    "### Objective\n",
    "\n",
    "Today, we are learning about an algorithmic concept called recursion. Check out the Tutorial tab for learning materials and an instructional video.\n",
    "\n",
    "### Recursive Method for Calculating Factorial\n",
    "\n",
    "\\begin{equation}\n",
    "factorial(N) = \n",
    "\\begin{cases}\n",
    "1 &N<=1\\\\\n",
    "N \\times factorial(N-1) & otherwise\n",
    "\\end{cases}\n",
    "\\end{equation}\n",
    "\n",
    "### Function Description\n",
    "\n",
    "Complete the factorial function in the editor below. Be sure to use recursion.\n",
    "\n",
    "factorial has the following parameter:\n",
    "\n",
    "  - int n: an integer\n"
   ]
  },
  {
   "cell_type": "code",
   "execution_count": 10,
   "id": "36f3d713",
   "metadata": {},
   "outputs": [
    {
     "name": "stdout",
     "output_type": "stream",
     "text": [
      "24\n"
     ]
    }
   ],
   "source": [
    "import math\n",
    "import os\n",
    "import random\n",
    "import re\n",
    "import sys\n",
    "\n",
    "factorial = lambda n: 1 if n<=1 else  n*factorial(n-1)            # factorial\n",
    "\n",
    "if __name__ == '__main__':\n",
    "  n = 4#int(input().strip())\n",
    "  result = factorial(n)\n",
    "  print(result)"
   ]
  },
  {
   "cell_type": "markdown",
   "id": "83cd1528",
   "metadata": {},
   "source": [
    "## Day 10: Binary Numbers"
   ]
  },
  {
   "cell_type": "markdown",
   "id": "4efd908b",
   "metadata": {},
   "source": [
    "Given a base-10 integer, $n$, convert it to binary (base-2). Then find and print the base-10 integer denoting the maximum number of consecutive 1's in n's binary representation. When working with different bases, it is common to show the base as a subscript. "
   ]
  },
  {
   "cell_type": "code",
   "execution_count": 11,
   "id": "010e3851",
   "metadata": {},
   "outputs": [
    {
     "name": "stdout",
     "output_type": "stream",
     "text": [
      "4\n"
     ]
    }
   ],
   "source": [
    "import math\n",
    "import os\n",
    "import random\n",
    "import re\n",
    "import sys\n",
    "\n",
    "if __name__ == '__main__':\n",
    "  n = 15#int(input().strip())    # print(bin(n))\n",
    "  list_cons = []              # list consecutive ones             \n",
    "  ones = 0                    # count consecutive ones\n",
    "  while n>0:                  # while not find conversion\n",
    "    res = n % 2               # remainder     \n",
    "    # bina.append(str(res))   # get the binary listed\n",
    "    if res ==1:               # if binary have one\n",
    "      ones += 1               # count ones\n",
    "    else:                     # add to list and reset ones\n",
    "      list_cons.append(ones); ones = 0\n",
    "    n = int((n-res)/2)        # go to next divisor\n",
    "  else:\n",
    "    list_cons.append(ones)    # add to list\n",
    "  print(max(list_cons))\n",
    "  #print(''.join(bina[::-1])) # print the binary"
   ]
  },
  {
   "cell_type": "markdown",
   "id": "0f991f34",
   "metadata": {},
   "source": [
    "## Day 11: HourGlasses"
   ]
  },
  {
   "cell_type": "markdown",
   "id": "9dc35829",
   "metadata": {},
   "source": [
    "### Objective\n",
    "\n",
    "Today, we are building on our knowledge of arrays by adding another dimension. Check out the Tutorial tab for learning materials and an instructional video. \n",
    "\n",
    "### Context\n",
    "\n",
    "Given a 2D Array, : \n",
    "\n",
    "\\begin{equation}\n",
    "\\begin{matrix}\n",
    "1& 1& 1& 0& 0& 0\\\\\n",
    "0& 1& 0& 0& 0& 0\\\\\n",
    "1& 1& 1& 0& 0& 0\\\\\n",
    "0& 0& 0& 0& 0& 0\\\\\n",
    "0& 0& 0& 0& 0& 0\\\\\n",
    "0& 0& 0& 0& 0& 0\\\\\n",
    "\\end{matrix}\n",
    "\\end{equation}\n",
    "\n",
    "We define an hourglass in $A$ to be a subset of values with indices falling in this pattern in $A$'s graphical representation:\n",
    "\n",
    "\\begin{equation}\n",
    "\\begin{matrix}\n",
    "a& b& c\\\\\n",
    " & d&  \\\\\n",
    "e& f& g\\\\\n",
    "\\end{matrix}\n",
    "\\end{equation}\n",
    "\n",
    "There are 16 hourglasses in $A$, and an hourglass sum is the sum of an hourglass'values.\n",
    "\n",
    "### Task\n",
    "Calculate the hourglass sum for every hourglass in $A$, then print the maximum hourglass sum.\n",
    "\n"
   ]
  },
  {
   "cell_type": "code",
   "execution_count": 12,
   "id": "9251b0f9",
   "metadata": {},
   "outputs": [
    {
     "name": "stdout",
     "output_type": "stream",
     "text": [
      "19\n"
     ]
    }
   ],
   "source": [
    "import math\n",
    "import os\n",
    "import random\n",
    "import re\n",
    "import sys\n",
    "\n",
    "if __name__ == '__main__':\n",
    "  arr = []\n",
    "  #for _ in range(6):\n",
    "  #  arr.append(list(map(int, input().rstrip().split())))\n",
    "  arr = [\n",
    "    [1, 1, 1, 0, 0, 0],\n",
    "    [0, 1, 0, 0, 0, 0],\n",
    "    [1, 1, 1, 0, 0, 0],\n",
    "    [0, 0, 2, 4, 4, 0],\n",
    "    [0, 0, 0, 2, 0, 0],\n",
    "    [0, 0, 1, 2, 4, 0]\n",
    "  ]\n",
    "  l = len(arr)\n",
    "  hourglass_max = -1e300\n",
    "  for i  in range(l-2):\n",
    "    for j in range(l-2):   \n",
    "      hourglass = sum(arr[i][j:j+3]) + arr[i+1][j+1] + sum(arr[i+2][j:j+3])\n",
    "      if hourglass> hourglass_max:\n",
    "        hourglass_max = hourglass\n",
    "      \n",
    "print(hourglass_max)"
   ]
  },
  {
   "cell_type": "markdown",
   "id": "d3a7f6b9",
   "metadata": {},
   "source": [
    "# Classes"
   ]
  },
  {
   "cell_type": "markdown",
   "id": "368833dd",
   "metadata": {},
   "source": [
    "## Day 12: inherent class"
   ]
  },
  {
   "cell_type": "markdown",
   "id": "69575f62",
   "metadata": {},
   "source": [
    "You are given two classes, Person and Student, where Person is the base class and Student is the derived class. Completed code for Person and a declaration for Student are provided for you in the editor. Observe that Student inherits all the properties of Person.\n",
    "\n",
    "Complete the Student class by writing the following:\n",
    "\n",
    "- A Student class constructor, which has parameters: \n",
    "  1.  A string $first Name$\n",
    "  2.  A string $last Name$\n",
    "  3.  a integer, $id Number$\n",
    "  4.  An integer array (or vector) of test scores, $scores$.\n",
    "- A char calculate() method that calculates a Student object's average and returns the grade character representative of their calculated average:\n",
    "\n",
    "grading scale\n",
    "\n",
    "\\begin{equation}\n",
    "\\begin{cases}\n",
    "O& 90 <= a <= 100\\\\\n",
    "E& 80 <= a < 90\\\\\n",
    "A& 70 <= a < 80\\\\\n",
    "P& 55 <= a < 70\\\\\n",
    "D& 40 <= a < 55\\\\\n",
    "T&  a < 40\n",
    "\\end{cases}\n",
    "\\end{equation}"
   ]
  },
  {
   "cell_type": "code",
   "execution_count": 13,
   "id": "1bef16e0",
   "metadata": {},
   "outputs": [
    {
     "name": "stdout",
     "output_type": "stream",
     "text": [
      "Name: Memelli, Heraldo\n",
      "ID: 8135627\n"
     ]
    },
    {
     "data": {
      "text/plain": [
       "'O'"
      ]
     },
     "execution_count": 13,
     "metadata": {},
     "output_type": "execute_result"
    }
   ],
   "source": [
    "class Person:\n",
    "\tdef __init__(self, firstName, lastName, idNumber):\n",
    "\t\tself.firstName = firstName\n",
    "\t\tself.lastName = lastName\n",
    "\t\tself.idNumber = idNumber\n",
    "\tdef printPerson(self):\n",
    "\t\tprint(\"Name:\", self.lastName + \",\", self.firstName)\n",
    "\t\tprint(\"ID:\", self.idNumber)\n",
    "class Student(Person):\n",
    "  def __init__(self, firstName, lastName, idNumber, scores):\n",
    "    super().__init__( firstName, lastName, idNumber)\n",
    "    self.scores = scores\n",
    "  def calculate(self):\n",
    "    grade = sum(self.scores)/len(self.scores)\n",
    "    if grade < 40:\n",
    "      return 'T'\n",
    "    elif grade < 55:\n",
    "      return 'D'\n",
    "    elif grade < 70:\n",
    "      return 'P'\n",
    "    elif grade < 80:\n",
    "      return 'A'\n",
    "    elif grade < 90:\n",
    "      return 'E'\n",
    "    else:\n",
    "      return 'O'\n",
    "\n",
    "s = Student('Heraldo', 'Memelli', '8135627', [100, 80])\n",
    "s.printPerson()\n",
    "s.calculate()"
   ]
  },
  {
   "cell_type": "markdown",
   "id": "e62436aa",
   "metadata": {},
   "source": [
    "## Day 13:  abstract class"
   ]
  },
  {
   "cell_type": "markdown",
   "id": "31870610",
   "metadata": {},
   "source": [
    "Given a Book class and a Solution class, write a MyBook class that does the following:\n",
    "\n",
    "- Inherits from Book\n",
    "- Has a parameterized constructor taking these 3 parameters:\n",
    "\n",
    "  1. string $tittle$\n",
    "  1. string $author$\n",
    "  1. int $price$\n",
    "\n",
    "- Implements the Book class' abstract display() method so it prints these 3 lines:\n",
    "\n",
    "  1.Title: a space, and then the current instance's $title$.\n",
    "  1.Author: a space, and then the current instance's $author$.\n",
    "  1.Price: a space, and then the current instance's $price$.\n",
    "\n",
    "Note: Because these classes are being written in the same file, you must not use an access modifier (e.g.: public\n",
    ") when declaring MyBook or your code will not execute."
   ]
  },
  {
   "cell_type": "code",
   "execution_count": 14,
   "id": "4e8e3309",
   "metadata": {},
   "outputs": [
    {
     "name": "stdout",
     "output_type": "stream",
     "text": [
      "Title: The Alchemist\n",
      "Author: Paulo Coelho\n",
      "Price: 248\n"
     ]
    }
   ],
   "source": [
    "from abc import ABCMeta, abstractmethod\n",
    "class Book(object, metaclass=ABCMeta):\n",
    "  def __init__(self,title,author):\n",
    "    self.title=title\n",
    "    self.author=author   \n",
    "  @abstractmethod\n",
    "  def display(): pass\n",
    "class MyBook(Book):\n",
    "  price = 0\n",
    "  def __init__(self, title, author, price):\n",
    "    super().__init__(title, author)\n",
    "    self.price = price\n",
    "  def display(self):\n",
    "    print('Title: %s'%self.title)\n",
    "    print('Author: %s'%self.author)\n",
    "    print('Price: %s'%self.price)\n",
    "title='The Alchemist'\n",
    "author='Paulo Coelho'\n",
    "price=int(248)\n",
    "new_novel=MyBook(title,author,price)\n",
    "new_novel.display()"
   ]
  },
  {
   "cell_type": "markdown",
   "id": "9cd2d9b5",
   "metadata": {},
   "source": [
    "## Day 14: Scope"
   ]
  },
  {
   "cell_type": "markdown",
   "id": "13045210",
   "metadata": {},
   "source": [
    "Complete the Difference class by writing the following:\n",
    "\n",
    "  - A class constructor that takes an array of integers as a parameter and saves it to the _elements instance variable.\n",
    "  - A computeDifference method that finds the maximum absolute difference between any 2 numbers in _elements and stores it in the maximumDifference instance variable. "
   ]
  },
  {
   "cell_type": "code",
   "execution_count": 15,
   "id": "14fbf3ae",
   "metadata": {},
   "outputs": [],
   "source": [
    "def computeDifference(self):\n",
    "    self.maximumDifference = max(self.__elements) - min(self.__elements)"
   ]
  },
  {
   "cell_type": "markdown",
   "id": "6e8bb507",
   "metadata": {},
   "source": [
    "## Day 15: Linked list"
   ]
  },
  {
   "cell_type": "markdown",
   "id": "d2776a4e",
   "metadata": {},
   "source": [
    "Complete the insert function in your editor so that it creates a new Node (pass $data$ as the Node constructor argument) and inserts it at the tail of the linked list referenced by the $head$ parameter. Once the new node is added, return the reference to  the $head$ node.\n",
    "\n",
    "Note: The $head$ argument is null for an empty list. "
   ]
  },
  {
   "cell_type": "code",
   "execution_count": 16,
   "id": "0f4afddc",
   "metadata": {},
   "outputs": [
    {
     "name": "stdout",
     "output_type": "stream",
     "text": [
      "2 3 4 1 "
     ]
    }
   ],
   "source": [
    "# linked list\n",
    "class Node:\n",
    "  def __init__(self,data):\n",
    "    self.data = data\n",
    "    self.next = None \n",
    "class Solution: \n",
    "  def display(self,head):\n",
    "    current = head\n",
    "    while current:\n",
    "      print(current.data,end=' ')\n",
    "      current = current.next\n",
    "\n",
    "  def insert(self,head,data):  \n",
    "    if head==None:\n",
    "      head = Node(data)\n",
    "    else:\n",
    "      node = head\n",
    "      while node.next:\n",
    "        node = node.next\n",
    "      else:\n",
    "        node.next = Node(data)\n",
    "    return head\n",
    "\n",
    "mylist= Solution()\n",
    "Data = [2, 3, 4, 1]\n",
    "head=None\n",
    "for data in Data:\n",
    "    head=mylist.insert(head,data)   \n",
    "mylist.display(head); \t  "
   ]
  },
  {
   "cell_type": "markdown",
   "id": "eeaa3548",
   "metadata": {},
   "source": [
    "# Exeptions"
   ]
  },
  {
   "cell_type": "markdown",
   "id": "23b30242",
   "metadata": {},
   "source": [
    "## Day 16: Exeptions -  String to integer"
   ]
  },
  {
   "cell_type": "markdown",
   "id": "61a1f5bb",
   "metadata": {},
   "source": [
    "Read a string, $S$, and print its integer value; if $S$ cannot be converted to an integer, print Bad String.\n",
    "\n",
    "Note: You must use the String-to-Integer and exception handling constructs built into your submission language. If you attempt to use loops/conditional statements, you will get a 0 score."
   ]
  },
  {
   "cell_type": "code",
   "execution_count": 17,
   "id": "ade2dfaa",
   "metadata": {},
   "outputs": [
    {
     "name": "stdout",
     "output_type": "stream",
     "text": [
      "Bad String\n"
     ]
    }
   ],
   "source": [
    "S = 'input()'\n",
    "try: \n",
    "  n = int(S) \n",
    "  print(n)\n",
    "except ValueError:\n",
    "  print('Bad String')"
   ]
  },
  {
   "cell_type": "markdown",
   "id": "ceffa52c",
   "metadata": {},
   "source": [
    "## Day xx: Decorations"
   ]
  },
  {
   "cell_type": "markdown",
   "id": "fdbfaced",
   "metadata": {},
   "source": []
  },
  {
   "cell_type": "code",
   "execution_count": 18,
   "id": "604f0d50",
   "metadata": {},
   "outputs": [
    {
     "name": "stdout",
     "output_type": "stream",
     "text": [
      "Mr. Mike Thomson\n",
      "Ms. Andria Bustle\n",
      "Mr. Robert Bustle\n"
     ]
    }
   ],
   "source": [
    "\n",
    "idade = lambda x: x[2]\n",
    "def person_lister(f):\n",
    "    def inner(people):\n",
    "        # complete the function\n",
    "        return map(f, sorted(people, key=idade))          \n",
    "    return inner\n",
    "\n",
    "@person_lister\n",
    "def name_format(person):\n",
    "    return (\"Mr. \" if person[3] == \"M\" else \"Ms. \") + person[0] + \" \" + person[1]\n",
    "\n",
    "people = [['Mike', 'Thomson', '20', 'M'], ['Robert', 'Bustle', '32', 'M'], ['Andria', 'Bustle', '30', 'F']]\n",
    "print ('\\n'.join(name_format(people)))\n",
    "\n"
   ]
  },
  {
   "cell_type": "markdown",
   "id": "b2915f1e",
   "metadata": {},
   "source": [
    "## Day 17:  More Exceptions"
   ]
  },
  {
   "cell_type": "markdown",
   "id": "185c529d",
   "metadata": {},
   "source": [
    "Write a Calculator class with a single method: int power(int,int). The power method takes two integers, and , as parameters and returns the integer result of . If either $n$ or $p$ is negative, then the method must throw an exception with the message: n and p should be non-negative.\n",
    "\n",
    "Note: Do not use an access modifier (e.g.: public) in the declaration for your Calculator class."
   ]
  },
  {
   "cell_type": "code",
   "execution_count": 19,
   "id": "1471355c",
   "metadata": {},
   "outputs": [
    {
     "name": "stdout",
     "output_type": "stream",
     "text": [
      "81\n",
      "n and p should be non-negative\n",
      "n and p should be non-negative\n",
      "n and p should be non-negative\n"
     ]
    }
   ],
   "source": [
    "#Write your code here\n",
    "class Calculator(object):\n",
    "  def __init__(self):\n",
    "    pass\n",
    "  def power(self, n, p):\n",
    "    if n>=0 and p>=0:\n",
    "      return n**p\n",
    "    else:\n",
    "      raise ValueError('n and p should be non-negative')\n",
    "#e = 'n and p should be non-negative'\n",
    "\n",
    "\n",
    "myCalculator=Calculator()\n",
    "T=4\n",
    "data = [[3, 4],  [-3, -5], [-3, 5], [3, -5]]\n",
    "for i in range(T):\n",
    "  n,p = data[i]\n",
    "  try:\n",
    "    ans=myCalculator.power(n,p)\n",
    "    print(ans)\n",
    "  except Exception as e:\n",
    "    print(e)   "
   ]
  },
  {
   "cell_type": "markdown",
   "id": "1ac55804",
   "metadata": {},
   "source": [
    "# Classes II - Object-oriented programming\n"
   ]
  },
  {
   "cell_type": "markdown",
   "id": "1d49a0bf",
   "metadata": {},
   "source": [
    "## Day 18: Queues and Stacks"
   ]
  },
  {
   "cell_type": "markdown",
   "id": "34ff0c44",
   "metadata": {},
   "source": [
    "A palindrome is a word, phrase, number, or other sequence of characters which reads the same backwards and forwards. Can you determine if a given string, $s$, is a palindrome?\n",
    "\n",
    "To solve this challenge, we must first take each character in $s$, enqueue it in a queue, and also push that same character onto a stack. Once that's done, we must dequeue the first character from the queue and pop the top character off the stack, then compare the two characters to see if they are the same; as long as the characters match, we continue dequeueing, popping, and comparing each character until our containers are empty (a non-match means $s$ isn't a palindrome). \n",
    "\n",
    "Write the following declarations and implementations:\n",
    "\n",
    "1. Two instance variables: one for your $stack$, and one for your $queue$.\n",
    "2. A void pushCharacter(char ch) method that pushes a character onto a stack.\n",
    "3. A void enqueueCharacter(char ch) method that enqueues a character in the $queue$ instance variable.\n",
    "4. A char popCharacter() method that pops and returns the character at the top of the $stack$ instance variable.\n",
    "5. A char dequeueCharacter() method that dequeues and returns the first character in the $queue$ instance variable.\n",
    "\n"
   ]
  },
  {
   "cell_type": "code",
   "execution_count": 20,
   "id": "f1c9771d",
   "metadata": {},
   "outputs": [
    {
     "name": "stdout",
     "output_type": "stream",
     "text": [
      "The word, yes, is not a palindrome.\n"
     ]
    }
   ],
   "source": [
    "import sys\n",
    "\n",
    "class Solution(object):\n",
    "  # Write your code here\n",
    "  def __init__(self):\n",
    "    self.stack = []\n",
    "    self.queue = []\n",
    "  def pushCharacter(self, s):\n",
    "    self.stack.append(s)\n",
    "  def enqueueCharacter(self, s):\n",
    "    self.queue.append(s)\n",
    "  def popCharacter(self):\n",
    "    return self.stack.pop(-1)\n",
    "  def dequeueCharacter(self):\n",
    "    return self.queue.pop(0)\n",
    "\n",
    "  \n",
    "# read the string s\n",
    "s='yes'\n",
    "#Create the Solution class object\n",
    "obj=Solution()   \n",
    "\n",
    "l=len(s)\n",
    "# push/enqueue all the characters of string s to stack\n",
    "for i in range(l):\n",
    "  obj.pushCharacter(s[i])\n",
    "  obj.enqueueCharacter(s[i])\n",
    "    \n",
    "isPalindrome=True\n",
    "'''\n",
    "pop the top character from stack\n",
    "dequeue the first character from queue\n",
    "compare both the characters\n",
    "''' \n",
    "for i in range(l // 2):\n",
    "  if obj.popCharacter()!=obj.dequeueCharacter():\n",
    "    isPalindrome=False\n",
    "    break\n",
    "#finally print whether string s is palindrome or not.\n",
    "if isPalindrome:\n",
    "  print(\"The word, \"+s+\", is a palindrome.\")\n",
    "else:\n",
    "  print(\"The word, \"+s+\", is not a palindrome.\") "
   ]
  },
  {
   "cell_type": "markdown",
   "id": "d54a8000",
   "metadata": {},
   "source": [
    "## Day 19: Interfaces"
   ]
  },
  {
   "cell_type": "markdown",
   "id": "1dddae10",
   "metadata": {},
   "source": [
    "The AdvancedArithmetic interface and the method declaration for the abstract divisorSum(n) method are provided for you in the editor below.\n",
    "\n",
    "Complete the implementation of Calculator class, which implements the AdvancedArithmetic interface. The implementation for the divisorSum(n) method must return the sum of all divisors of $n$."
   ]
  },
  {
   "cell_type": "code",
   "execution_count": 21,
   "id": "f7b9debb",
   "metadata": {},
   "outputs": [
    {
     "name": "stdout",
     "output_type": "stream",
     "text": [
      "I implemented: AdvancedArithmetic\n",
      "7\n"
     ]
    }
   ],
   "source": [
    "class AdvancedArithmetic(object):\n",
    "  def divisorSum(n):\n",
    "    raise NotImplementedError\n",
    "\n",
    "class Calculator(AdvancedArithmetic):\n",
    "  def divisorSum(self, n):\n",
    "   return sum([i for i in range(1, n+1) if n%i==0])\n",
    "\n",
    "n = 4 #int(input())\n",
    "my_calculator = Calculator()\n",
    "s = my_calculator.divisorSum(n)\n",
    "print(\"I implemented: \" + type(my_calculator).__bases__[0].__name__)\n",
    "print(s)"
   ]
  },
  {
   "cell_type": "markdown",
   "id": "c3558ecb",
   "metadata": {},
   "source": [
    "# Algorithms"
   ]
  },
  {
   "cell_type": "markdown",
   "id": "8c20c68b",
   "metadata": {},
   "source": [
    "## Day 20: Sorting"
   ]
  },
  {
   "cell_type": "markdown",
   "id": "61890e30",
   "metadata": {},
   "source": [
    "Consider the following version of Bubble Sort:\n",
    "\n",
    "```C++\n",
    "for (int i = 0; i < n; i++) {\n",
    "    // Track number of elements swapped during a single array traversal\n",
    "    int numberOfSwaps = 0;\n",
    "    \n",
    "    for (int j = 0; j < n - 1; j++) {\n",
    "        // Swap adjacent elements if they are in decreasing order\n",
    "        if (a[j] > a[j + 1]) {\n",
    "            swap(a[j], a[j + 1]);\n",
    "            numberOfSwaps++;\n",
    "        }\n",
    "    }\n",
    "    // If no elements were swapped during a traversal, array is sorted\n",
    "    if (numberOfSwaps == 0) {\n",
    "        break;\n",
    "    }\n",
    "}\n",
    "```\n",
    "\n",
    "### Task\n",
    "\n",
    "Given an array, $a$, of size $n$ distinct elements, sort the array in ascending order using the Bubble Sort algorithm above. Once sorted, print the following 3 lines:\n",
    "\n",
    "  1. Array is sorted in numSwaps swaps.\\\\\n",
    "  where $num Swaps$ is the number of swaps that took place.\n",
    "  2. First Element: firstElement.\\\\\n",
    "  where $first Element$ is the first element in the sorted array.\n",
    "  3. Last Element: lastElement.\\\\\n",
    "  where $last Element$ is the last element in the sorted array.\n",
    "\n",
    "Hint: To complete this challenge, you will need to add a variable that keeps a running tally of all swaps that occur during execution. "
   ]
  },
  {
   "cell_type": "code",
   "execution_count": 22,
   "id": "6c7e74b3",
   "metadata": {},
   "outputs": [
    {
     "name": "stdout",
     "output_type": "stream",
     "text": [
      "Array is sorted in 5 swaps.\n",
      "First Element: 1\n",
      "Last Element: 4\n"
     ]
    },
    {
     "data": {
      "text/plain": [
       "[1, 2, 3, 4]"
      ]
     },
     "execution_count": 22,
     "metadata": {},
     "output_type": "execute_result"
    }
   ],
   "source": [
    "import math\n",
    "import os\n",
    "import random\n",
    "import re\n",
    "import sys\n",
    "\n",
    "if __name__ == '__main__':\n",
    "  n = 4#int(input().strip())\n",
    "  a = [4, 3, 1, 2]#list(map(int, input().rstrip().split()))\n",
    "  # Write your code here\n",
    "  t_swaps = 0\n",
    "  for i in range(n):\n",
    "    n_swaps = 0\n",
    "    for j in range(n-1):\n",
    "      if a[j] > a[j + 1]:\n",
    "        a[j], a[j+1] = a[j+1], a[j]\n",
    "        n_swaps +=1\n",
    "    t_swaps = t_swaps + n_swaps\n",
    "    if n_swaps == 0:\n",
    "      break \n",
    "  print(\"Array is sorted in\",t_swaps,\"swaps.\")\n",
    "  print(\"First Element:\",a[0])\n",
    "  print(\"Last Element:\",a[-1])\n",
    "a"
   ]
  },
  {
   "cell_type": "markdown",
   "id": "3921279f",
   "metadata": {},
   "source": [
    "## Day 21: Generics"
   ]
  },
  {
   "cell_type": "markdown",
   "id": "e0474c1e",
   "metadata": {},
   "source": [
    "### Task \n",
    "\n",
    "Write a single generic function named printArray; this function must take an array of generic elements as a parameter (the exception to this is C++, which takes a vector). The locked Solution class in your editor tests your function.\n",
    "\n",
    "Note: You must use generics to solve this challenge. Do not write overloaded functions. "
   ]
  },
  {
   "cell_type": "markdown",
   "id": "16ff7766",
   "metadata": {},
   "source": [
    "```C++\n",
    "\n",
    "#include <iostream>\n",
    "#include <vector>\n",
    "#include <string>\n",
    "\n",
    "using namespace std;\n",
    "/**\n",
    "*    Name: printArray\n",
    "*    Print each element of the generic vector on a new line. Do not return anything.\n",
    "*    @param A generic vector\n",
    "**/\n",
    "// Write your code here\n",
    "template<typename T>void printArray(vector<T> Array){\n",
    "  for(T i:Array)\n",
    "    cout<<i<<endl;\n",
    "  }\n",
    "\n",
    "int main() {\n",
    "\tint n;\n",
    "\tcin >> n;\n",
    "\tvector<int> int_vector(n);\n",
    "\tfor (int i = 0; i < n; i++) {\n",
    "\t\tint value;\n",
    "\t\tcin >> value;\n",
    "\t\tint_vector[i] = value;\n",
    "\t}\n",
    "\tcin >> n;\n",
    "\tvector<string> string_vector(n);\n",
    "\tfor (int i = 0; i < n; i++) {\n",
    "\t\tstring value;\n",
    "\t\tcin >> value;\n",
    "\t\tstring_vector[i] = value;\n",
    "\t}\n",
    "\tprintArray<int>(int_vector);\n",
    "\tprintArray<string>(string_vector);\n",
    "\treturn 0;\n",
    "}\n",
    "```"
   ]
  },
  {
   "cell_type": "markdown",
   "id": "2c1a1b3a",
   "metadata": {},
   "source": [
    "# Classes III (Linked list II)"
   ]
  },
  {
   "cell_type": "markdown",
   "id": "cd025aff",
   "metadata": {},
   "source": [
    "## Day 22: Binary Search Trees"
   ]
  },
  {
   "cell_type": "markdown",
   "id": "59843add",
   "metadata": {},
   "source": [
    "The height of a binary search tree is the number of edges between the tree's root and its furthest leaf. You are given a pointer, $root$, pointing to the root of a binary search tree. Complete the getHeight function provided in your editor so that it returns the height of the binary search tree.\n",
    "\n",
    "\\begin{gather*}\n",
    "l = left, \\hspace{10mm} r = right\\\\\n",
    "3 \n",
    "\\begin{cases}\n",
    "  l = 2\n",
    "  \\begin{cases}\n",
    "    l = 1\n",
    "    \\\\\n",
    "    r = None\n",
    "  \\end{cases} \n",
    "  \\\\\n",
    "  r = 5\n",
    "  \\begin{cases}\n",
    "  l = 4\n",
    "  \\\\\n",
    "  r = 6\n",
    "    \\begin{cases}\n",
    "    l = None\n",
    "    \\\\\n",
    "    r = 7\n",
    "    \\end{cases} \n",
    "  \\end{cases} \n",
    "\\end{cases}\n",
    "\\end{gather*}"
   ]
  },
  {
   "cell_type": "code",
   "execution_count": 23,
   "id": "7199cc64",
   "metadata": {},
   "outputs": [
    {
     "name": "stdout",
     "output_type": "stream",
     "text": [
      "3\n"
     ]
    }
   ],
   "source": [
    "class Node:\n",
    "  def __init__(self,data):\n",
    "    self.right=self.left=None\n",
    "    self.data = data\n",
    "class Solution:\n",
    "  def insert(self,root,data):\n",
    "    if root==None:\n",
    "      return Node(data)\n",
    "    else:\n",
    "      if data<=root.data:\n",
    "        cur=self.insert(root.left,data)\n",
    "        root.left=cur\n",
    "      else:\n",
    "        cur=self.insert(root.right,data)\n",
    "        root.right=cur\n",
    "    return root\n",
    "  def getHeight(self,root):\n",
    "    self.Height = 0\n",
    "    def deep(root, h = 0):\n",
    "      try:  \n",
    "        root.data;  h = h + 1\n",
    "        try:  deep(root.left,  h); \n",
    "        except: pass\n",
    "        try:  deep(root.right, h); \n",
    "        except: pass\n",
    "      except:\n",
    "        self.Height = max([self.Height, h])\n",
    "    deep(root)\n",
    "    return self.Height - 1\n",
    "  # Editorial\n",
    "  #def getHeight(self, root):\n",
    "  #  if root == None:\n",
    "  #    return -1\n",
    "  #  else:\n",
    "  #    return 1 + max( \n",
    "  #      self.getHeight(root.left), \n",
    "  #      self.getHeight(root.right) )\n",
    "\n",
    "T=7 #int(input())\n",
    "Data = [3, 5, 2, 1, 4, 6, 7]\n",
    "myTree=Solution()\n",
    "root=None\n",
    "for i in range(T):\n",
    "  #data=int(input())\n",
    "  data = Data[i]\n",
    "  root=myTree.insert(root,data)\n",
    "height=myTree.getHeight(root)\n",
    "print(height)       "
   ]
  },
  {
   "cell_type": "markdown",
   "id": "907e04f6",
   "metadata": {},
   "source": [
    "## Day 23: BST Level-Order Traversal"
   ]
  },
  {
   "cell_type": "markdown",
   "id": "711a576a",
   "metadata": {},
   "source": [
    "A level-order traversal, also known as a breadth-first search, visits each level of a tree's nodes from left to right, top to bottom. You are given a pointer, $root$, pointing to the root of a binary search tree. Complete the levelOrder function provided in your editor so that it prints the level-order traversal of the binary search tree.\n",
    "\n",
    "\\begin{gather*}\n",
    "l = left, \\hspace{10mm} r = right\\\\\n",
    "3 \n",
    "\\begin{cases}\n",
    "  l = 2\n",
    "  \\begin{cases}\n",
    "    l = 1\n",
    "    \\\\\n",
    "    r = None\n",
    "  \\end{cases} \n",
    "  \\\\\n",
    "  r = 5\n",
    "  \\begin{cases}\n",
    "  l = 4\n",
    "  \\\\\n",
    "  r = 7\n",
    "  \\end{cases} \n",
    "\\end{cases}\n",
    "\\end{gather*}\n"
   ]
  },
  {
   "cell_type": "code",
   "execution_count": 24,
   "id": "a9f8e709",
   "metadata": {},
   "outputs": [
    {
     "name": "stdout",
     "output_type": "stream",
     "text": [
      "3 2 5 1 4 7\n"
     ]
    }
   ],
   "source": [
    "import sys\n",
    "\n",
    "class Node:\n",
    "  def __init__(self,data):\n",
    "    self.right=self.left=None\n",
    "    self.data = data\n",
    "class Solution:\n",
    "  def insert(self,root,data):\n",
    "    if root==None:\n",
    "      return Node(data)\n",
    "    else:\n",
    "      if data<=root.data:\n",
    "        cur=self.insert(root.left,data)\n",
    "        root.left=cur\n",
    "      else:\n",
    "        cur=self.insert(root.right,data)\n",
    "        root.right=cur\n",
    "    return root\n",
    "    \n",
    "  def levelOrder(self,root):\n",
    "    nivel = [root]   # nodes\n",
    "    D = []           # data\n",
    "    while len(nivel)>0:\n",
    "      # Add data to actual node\n",
    "      D.extend([str(j.data) for j in nivel])\n",
    "      next_nivel = []\n",
    "      for n in nivel:\n",
    "        next_nivel.extend([n.left, n.right]) \n",
    "      nivel = next_nivel\n",
    "      nivel = [n for n in nivel if n!=None]\n",
    "    print(' '.join(D))\n",
    "\n",
    "T=6 #int(input())\n",
    "Data = [3, 5, 4, 7, 2, 1]\n",
    "myTree=Solution()\n",
    "root=None\n",
    "for i in range(T):\n",
    "  #data=int(input())\n",
    "  data = Data[i]\n",
    "  root=myTree.insert(root,data)\n",
    "myTree.levelOrder(root)\n"
   ]
  },
  {
   "cell_type": "markdown",
   "id": "e7390f54",
   "metadata": {},
   "source": [
    "## Day 24: More Linked Lists"
   ]
  },
  {
   "cell_type": "markdown",
   "id": "539b3e96",
   "metadata": {},
   "source": [
    "A Node class is provided for you in the editor. A Node object has an integer data field, $data$, and a Node instance pointer, $next$, pointing to another node (i.e.: the next node in a list).\n",
    "\n",
    "A removeDuplicates function is declared in your editor, which takes a pointer to the $head$ node of a linked list as a parameter. Complete removeDuplicates so that it deletes any duplicate nodes from the list and returns the head of the updated list.\n",
    "\n",
    "Note: The $head$ pointer may be null, indicating that the list is empty. Be sure to reset your pointer when performing deletions to avoid breaking the list.\n",
    "\n",
    "You do not need to read any input from stdin. The following input is handled by the locked stub code and passed to the removeDuplicates function: \n",
    "\n",
    "The first line contains an integer, $N$, the number of nodes to be inserted. \n",
    "\n",
    "The $N$ ubsequent lines each contain an integer describing the $data$ value of a node being inserted at the list's tail.\n",
    "\n",
    "### constrains\n",
    "\n",
    "- The data elements of the linked list argument will always be in non-decreasing order."
   ]
  },
  {
   "cell_type": "code",
   "execution_count": 31,
   "id": "da63d3e9",
   "metadata": {},
   "outputs": [
    {
     "name": "stdout",
     "output_type": "stream",
     "text": [
      "1 2 3 4 "
     ]
    }
   ],
   "source": [
    "class Node:\n",
    "  def __init__(self,data):\n",
    "    self.data = data\n",
    "    self.next = None \n",
    "class Solution: \n",
    "  def insert(self,head,data):\n",
    "    p = Node(data)           \n",
    "    if head==None:\n",
    "      head=p\n",
    "    elif head.next==None:\n",
    "      head.next=p\n",
    "    else:\n",
    "      start=head\n",
    "      while(start.next!=None):\n",
    "        start=start.next\n",
    "      start.next=p\n",
    "    return head  \n",
    "  def display(self,head):\n",
    "    current = head\n",
    "    while current:\n",
    "      print(current.data,end=' ')\n",
    "      current = current.next\n",
    "\n",
    "  def removeDuplicates(self,head):\n",
    "    current = head\n",
    "    while current.next:\n",
    "      if current.data == current.next.data:\n",
    "        current.next = current.next.next\n",
    "      else:\n",
    "        current = current.next\n",
    "    return head\n",
    "      #Write your code here\n",
    "\n",
    "mylist = Solution()\n",
    "T = 6 #int(input())\n",
    "Data = [1, 2, 2, 3, 3, 4]\n",
    "head=None\n",
    "for i in range(T):\n",
    "    #data=int(input())\n",
    "    data = Data[i]\n",
    "    head=mylist.insert(head,data)    \n",
    "head=mylist.removeDuplicates(head)\n",
    "mylist.display(head); "
   ]
  },
  {
   "cell_type": "markdown",
   "id": "cf860edf",
   "metadata": {},
   "source": [
    "# Logic "
   ]
  },
  {
   "cell_type": "markdown",
   "id": "bf0c112e",
   "metadata": {},
   "source": [
    "## Day 25: Running Time and Complexity"
   ]
  },
  {
   "cell_type": "markdown",
   "id": "c1ab2050",
   "metadata": {},
   "source": [
    "A prime is a natural number greater than 1 that has no positive divisors other than and itself. Given a number, $n$, determine and print whether it is $Prime$ or $Not~ prime$.\n",
    "\n",
    "Note: If possible, try to come up with a $O(\\sqrt{n})$ primality algorithm, or see what sort of optimizations you come up with for an $O(n)$ algorithm. Be sure to check out the Editorial after submitting your code."
   ]
  },
  {
   "cell_type": "code",
   "execution_count": 37,
   "id": "ade8f1cf",
   "metadata": {},
   "outputs": [
    {
     "name": "stdout",
     "output_type": "stream",
     "text": [
      "Not prime\n",
      "Prime\n",
      "Not prime\n",
      "Not prime\n",
      "Prime\n"
     ]
    }
   ],
   "source": [
    "# Enter your code here. Read input from STDIN. Print output to STDOUT\n",
    "def isprime(number):\n",
    "  if number==1:\n",
    "    print('Not prime')\n",
    "  elif number<=3:\n",
    "    print('Prime')\n",
    "  elif number%2==0 or number%3==0:\n",
    "    print('Not prime')\n",
    "  else:\n",
    "    i = 5\n",
    "    stop = int(number**0.5)\n",
    "    while i <=stop:\n",
    "      #print('test =', i, 'test2 = ', i+2)\n",
    "      if number%i==0 or number%(i+2)==0:\n",
    "        print('Not prime')\n",
    "        break\n",
    "      i+=6\n",
    "    else:\n",
    "      print('Prime')\n",
    "\n",
    "#n = int(input())\n",
    "n =     5\n",
    "data = [12, 5, 36, 1, 2147483647]\n",
    "\n",
    "for i in range(n):\n",
    "  #number = int(input())\n",
    "  number = data[i]\n",
    "  isprime(number)  "
   ]
  },
  {
   "cell_type": "markdown",
   "id": "43a60a83",
   "metadata": {},
   "source": [
    "##  Day 26: Nested Logic"
   ]
  },
  {
   "cell_type": "markdown",
   "id": "59fa46e8",
   "metadata": {},
   "source": [
    "Your local library needs your help! Given the expected and actual return dates for a library book, create a program that calculates the fine (if any). The fee structure is as follows:\n",
    "\n",
    "1. If the book is returned on or before the expected return date, no fine will be charged (i.e.: fine = 0).\n",
    "2. If the book is returned after the expected return day but still within the same calendar month and year as the expected return date, $fine = 15~ Hackos \\times (the~number~ of~ days~ late)$.\n",
    "3. If the book is returned after the expected return month but still within the same calendar year as the expected return date, the $fine = 500~ Hackos \\times (the~ number~ of~ months~ late)$.\n",
    "4. If the book is returned after the calendar year in which it was expected, there is a fixed fine of $10000~ Hackos$."
   ]
  },
  {
   "cell_type": "code",
   "execution_count": 179,
   "id": "3363e73f",
   "metadata": {},
   "outputs": [
    {
     "name": "stdout",
     "output_type": "stream",
     "text": [
      "one year\n",
      "10000\n"
     ]
    }
   ],
   "source": [
    "# Enter your code here. Read input from STDIN. Print output to STDOUT\n",
    "# Enter your code here. Read input from STDIN. Print output to STDOUT\n",
    "#date = input().strip().split()\n",
    "#date = [int(i) for i in date]\n",
    "\n",
    "#date_limit = input().strip().split()\n",
    "#date_limit = [int(i) for i in date_limit]\n",
    "date = [1, 1, 2010]\n",
    "date_limit = [31, 12, 2009]\n",
    "\n",
    "\n",
    "def is_leap(y):\n",
    "  if not y%4 and (y%100 or not y%400):\n",
    "    return True\n",
    "  else:\n",
    "    return False\n",
    "\n",
    "def day(d, m, y):\n",
    "  days = [31, 29 if is_leap(y) else 28, \n",
    "    31, 30, 31, 30, 31, 31, 30, 31, 30, 31 ]\n",
    "  return d + sum(days[:m-1])\n",
    "\n",
    "year_days = lambda y: 366*is_leap(y) + (not is_leap(y) )*365\n",
    "\n",
    "[d, m, y] = date\n",
    "[d_l, m_l, y_l] = date_limit\n",
    "\n",
    "if y<y_l  or (y==y_l and m<m_l) or (d<=d_l and m==m_l and y==y_l):\n",
    "  value = 0\n",
    "  print('on time')\n",
    "elif y>y_l:\n",
    "  value = 10000\n",
    "  print('one year')\n",
    "elif (m-m_l)>1:\n",
    "  print('one month 2')\n",
    "  value = 500*(m-m_l)\n",
    "elif (m-m_l)==1 and d>=d_l:\n",
    "  print('one month 1')\n",
    "  value = 500\n",
    "else:\n",
    "  print('one day')\n",
    "  value = 15*(day(d, m, y) - day(d_l, m_l, y_l))\n",
    "print(value)"
   ]
  },
  {
   "cell_type": "markdown",
   "id": "d27b4484",
   "metadata": {},
   "source": [
    "## Day 27: Testing"
   ]
  },
  {
   "cell_type": "markdown",
   "id": "f77f1bff",
   "metadata": {},
   "source": [
    "This problem is about unit testing.\n",
    "\n",
    "Your company needs a function that meets the following requirements:\n",
    "\n",
    "- For a given array of $n$ integers, the function returns the index of the element with the minimum value in the array. If there is more than one element with the minimum value, it returns the smallest one.\n",
    "- If an empty array is passed to the function, it raises an exception. A colleague has written this method. The implementation in Python is listed below. Implementations in other languages can be found in the code template.\n",
    "\n",
    "``` python\n",
    "def minimum_index(seq):\n",
    "    if len(seq) == 0:\n",
    "        raise ValueError(\"Cannot get the minimum value index from an empty sequence\")\n",
    "    min_idx = 0\n",
    "    for i in range(1, len(seq)):\n",
    "        if a[i] < a[min_idx]:\n",
    "            min_idx = i\n",
    "    return min_idx\n",
    "```\n",
    "\n",
    "\n",
    "A coworker has prepared functions that will perform the tests and validate return values. Finish the implementation of 3 classes to provide data and expected results for the tests.\n",
    "\n",
    "Complete the following methods.\n",
    "\n",
    "In the class TestDataEmptyArray:\n",
    "\n",
    "- get_array() returns an empty array\n",
    "\n",
    "In the class TestDataUniqueValues:\n",
    "\n",
    "- get_array() returns an array of size at least 2 with all unique elements\n",
    "- get_expected_result() returns the expected minimum value index for this array\n",
    "\n",
    "In the class TestDataExactlyTwoDifferentMinimums:\n",
    "\n",
    "- get_array() returns an array where the minimum value occurs at exactly 2 indices\n",
    "- get_expected_result() returns the expected index\n",
    "\n",
    "Take a look at the code template to see the exact implementation of functions that your colleague already implemented.\n",
    "\n",
    "Note: The arrays are indexed from 0."
   ]
  },
  {
   "cell_type": "code",
   "execution_count": 365,
   "id": "609be7ed",
   "metadata": {},
   "outputs": [
    {
     "name": "stdout",
     "output_type": "stream",
     "text": [
      "OK\n"
     ]
    }
   ],
   "source": [
    "def minimum_index(seq):\n",
    "  if len(seq) == 0:\n",
    "    raise ValueError(\"Cannot get the minimum value index from an empty sequence\")\n",
    "  min_idx = 0\n",
    "  for i in range(1, len(seq)):\n",
    "    if seq[i] < seq[min_idx]:\n",
    "      min_idx = i\n",
    "  return min_idx\n",
    "\n",
    "# Enter your code here. Read input from STDIN. Print output to STDOUT\n",
    "from random import randint\n",
    "def unique(Y): #find the sorted uniques\n",
    "  X = sorted(Y)\n",
    "  X = [X[i] for i in range(len(X)) if X[i]!= X[i-1]]\n",
    "  return X if len(X)>0 else Y[:1]\n",
    "\n",
    "class TestDataEmptyArray(object):\n",
    "  @staticmethod\n",
    "  def get_array():\n",
    "    return []\n",
    "\n",
    "class TestDataUniqueValues(object):\n",
    "  data = [randint(0,100) for i in range(20)]\n",
    "  data = unique(data)\n",
    "  for i in range(15):\n",
    "    j = randint(0, 15)\n",
    "    data[i], data[j] = data[j], data[i]\n",
    "\n",
    "  @staticmethod\n",
    "  def get_array():\n",
    "    data = TestDataUniqueValues.data\n",
    "    return data\n",
    "\n",
    "  @staticmethod\n",
    "  def get_expected_result():\n",
    "    data = TestDataUniqueValues.data\n",
    "    return data.index(min(data))\n",
    "\n",
    "class TestDataExactlyTwoDifferentMinimums(object):\n",
    "  data = [randint(0,100) for i in range(20)]\n",
    "  data = unique(data)\n",
    "  for i in range(15):\n",
    "    j = randint(0, 15)\n",
    "    data[i], data[j] = data[j], data[i] \n",
    "  i_min = data.index(min(data))\n",
    "  j = randint(1,19)\n",
    "  data = data[:j] + [data[i_min]] + data[j:]\n",
    "\n",
    "  @staticmethod\n",
    "  def get_array():\n",
    "    data = TestDataExactlyTwoDifferentMinimums.data\n",
    "    return data\n",
    "\n",
    "  @staticmethod\n",
    "  def get_expected_result():\n",
    "    data =  TestDataExactlyTwoDifferentMinimums.data\n",
    "    return data.index(min(data))\n",
    "\n",
    "#===================================================================\n",
    "\n",
    "def TestWithEmptyArray():\n",
    "  try:\n",
    "    seq = TestDataEmptyArray.get_array()\n",
    "    result = minimum_index(seq)\n",
    "  except ValueError as e:\n",
    "    pass\n",
    "  else:\n",
    "    assert False\n",
    "\n",
    "def TestWithUniqueValues():\n",
    "  seq = TestDataUniqueValues.get_array()\n",
    "  assert len(seq) >= 2\n",
    "  assert len(list(set(seq))) == len(seq)\n",
    "  expected_result = TestDataUniqueValues.get_expected_result()\n",
    "  result = minimum_index(seq)\n",
    "  assert result == expected_result\n",
    "\n",
    "def TestiWithExactyTwoDifferentMinimums():\n",
    "  seq = TestDataExactlyTwoDifferentMinimums.get_array()\n",
    "  assert len(seq) >= 2\n",
    "  tmp = sorted(seq)\n",
    "  assert tmp[0] == tmp[1] and (len(tmp) == 2 or tmp[1] < tmp[2])\n",
    "\n",
    "  expected_result = TestDataExactlyTwoDifferentMinimums.get_expected_result()\n",
    "  result = minimum_index(seq)\n",
    "  assert result == expected_result\n",
    "\n",
    "TestWithEmptyArray()\n",
    "TestWithUniqueValues()\n",
    "TestiWithExactyTwoDifferentMinimums()\n",
    "print(\"OK\")\n"
   ]
  },
  {
   "cell_type": "markdown",
   "id": "eddd534a",
   "metadata": {},
   "source": [
    "## Day 28: RegEx, Patterns, and Intro to Databases"
   ]
  },
  {
   "cell_type": "markdown",
   "id": "0258fde3",
   "metadata": {},
   "source": [
    "Consider a database table, Emails, which has the attributes First Name and Email ID. Given $N$ rows of data simulating the Emails table, print an alphabetically-ordered list of people whose email address ends in '@gmail.com'."
   ]
  },
  {
   "cell_type": "code",
   "execution_count": 15,
   "id": "34c79c7a",
   "metadata": {},
   "outputs": [
    {
     "name": "stdout",
     "output_type": "stream",
     "text": [
      "julia\n",
      "julia\n",
      "riya\n",
      "samantha\n",
      "tanya\n"
     ]
    }
   ],
   "source": [
    "#!/bin/python3\n",
    "\n",
    "import math\n",
    "import os\n",
    "import random\n",
    "import re\n",
    "import sys\n",
    "\n",
    "if __name__ == '__main__':\n",
    "  N = 6 #int(input().strip())\n",
    "  Data = [\n",
    "    ['riya'   , 'riya@gmail.com'],\n",
    "    ['julia'   , 'julia@julia.me'],\n",
    "    ['julia'   , 'sjulia@gmail.com'],\n",
    "    ['julia'   , 'julia@gmail.com'],\n",
    "    ['samantha', 'samantha@gmail.com'],\n",
    "    ['tanya'   , 'tanya@gmail.com']\n",
    "  ]\n",
    "  names = []\n",
    "  for N_itr in range(N):\n",
    "    #first_multiple_input = input().rstrip().split()\n",
    "    first_multiple_input = Data[N_itr]\n",
    "    firstName = first_multiple_input[0]\n",
    "    emailID = first_multiple_input[1]\n",
    "    if emailID[-10:] == '@gmail.com':\n",
    "      names.append(firstName)\n",
    "  for name in sorted(names):\n",
    "    print(name)"
   ]
  },
  {
   "cell_type": "markdown",
   "id": "09d4aed9",
   "metadata": {},
   "source": [
    "## Day 29: Bitwise AND"
   ]
  },
  {
   "cell_type": "markdown",
   "id": "f8844443",
   "metadata": {},
   "source": [
    "Given set $S = \\{1, 2, 3, \\dots, N \\}$. Find two integers, $A$ and $B$ (where $A < B$), from set $S$ such that the value of $A\\&B$ is the maximum possible and also less than a given integer, $K$. In this case, $\\&$ represents the bitwise AND operator.\n",
    "\n",
    "### Function Description\n",
    "Complete the bitwiseAnd function in the editor below.\n",
    "\n",
    "bitwiseAnd has the following paramter(s):\n",
    "- int N: the maximum integer to consider\n",
    "- int K: the limit of the result, inclusive \n",
    "\n",
    "### Returns\n",
    "- int: the maximum value of within the limit. "
   ]
  },
  {
   "cell_type": "code",
   "execution_count": 108,
   "id": "71a99f9b",
   "metadata": {},
   "outputs": [
    {
     "name": "stdout",
     "output_type": "stream",
     "text": [
      "1\n",
      "4\n",
      "0\n",
      "1\n",
      "2\n"
     ]
    }
   ],
   "source": [
    "#!/bin/python3\n",
    "\n",
    "import math\n",
    "import os\n",
    "import random\n",
    "import re\n",
    "import sys\n",
    "\n",
    "#\n",
    "# Complete the 'bitwiseAnd' function below.\n",
    "#\n",
    "# The function is expected to return an INTEGER.\n",
    "# The function accepts following parameters:\n",
    "#  1. INTEGER N\n",
    "#  2. INTEGER K\n",
    "#\n",
    "\n",
    "def bitwiseAnd(N, K):\n",
    "  i = K-10 if K>10 else 1 \n",
    "  maxi = 0\n",
    "  while i< N:\n",
    "    for j in range(i+1,N+1):\n",
    "      if i&j>maxi and i&j<K:\n",
    "        maxi = i&j\n",
    "      if i&j>=K:\n",
    "        break\n",
    "    i = i+1\n",
    "  #maxi = K-1 if ((K-1) | K) <= N else K-2 #Editorial\n",
    "  return maxi\n",
    "\n",
    "\n",
    "\n",
    "if __name__ == '__main__':\n",
    "  #fptr = open(os.environ['OUTPUT_PATH'], 'w')\n",
    "  #t = int(input().strip())\n",
    "  t = 5\n",
    "  Data = [  [5, 2],\n",
    "            [8, 5],\n",
    "            [2, 2],\n",
    "            [9, 2],\n",
    "            [8, 3]\n",
    "            ]\n",
    "  for t_itr in range(t):\n",
    "    #first_multiple_input = input().rstrip().split()\n",
    "    first_multiple_input = Data[t_itr]\n",
    "    count = int(first_multiple_input[0])\n",
    "    lim = int(first_multiple_input[1])\n",
    "    res = bitwiseAnd(count, lim)\n",
    "    print(res)\n",
    "    #fptr.write(str(res) + '\\n')\n",
    "  #fptr.close()\n"
   ]
  },
  {
   "cell_type": "code",
   "execution_count": 116,
   "id": "5dd8c1ef",
   "metadata": {},
   "outputs": [
    {
     "name": "stdout",
     "output_type": "stream",
     "text": [
      "1\n",
      "4\n",
      "0\n",
      "1\n",
      "2\n"
     ]
    },
    {
     "data": {
      "text/plain": [
       "7"
      ]
     },
     "execution_count": 116,
     "metadata": {},
     "output_type": "execute_result"
    }
   ],
   "source": [
    "# Editorial\n",
    "Data = [  [5, 2],\n",
    "          [8, 5],\n",
    "          [2, 2],\n",
    "          [9, 2],\n",
    "          [8, 3]\n",
    "          ]\n",
    "for [N, K] in Data:\n",
    "  print(K-1 if ((K-1) | K) <= N else K-2)\n",
    "\n",
    "6 | 7"
   ]
  },
  {
   "cell_type": "markdown",
   "id": "7429bf9f",
   "metadata": {},
   "source": [
    "## Sodoku"
   ]
  },
  {
   "cell_type": "code",
   "execution_count": 1,
   "id": "e14a476f",
   "metadata": {},
   "outputs": [
    {
     "name": "stdout",
     "output_type": "stream",
     "text": [
      "Total    =  81\n",
      "Beginner =  24 spaces to fill ,time to solve =  41 [s]\n",
      "blank spaces = 29.63 %\n",
      "Fill Performance = 35 [spaces/min] \n",
      "\n",
      "Easy     =  37 spaces to fill ,time to solve =  81 [s]\n",
      "blank spaces = 45.68 %\n",
      "Fill Performance = 27 [spaces/min] \n",
      "\n",
      "Medium   =  46 spaces to fill ,time to solve =  161 [s]\n",
      "blank spaces = 56.79 %\n",
      "Fill Performance = 17 [spaces/min] \n",
      "\n",
      "Hard     =  53 spaces to fill ,time to solve =  265 [s]\n",
      "blank spaces = 65.43 %\n",
      "Fill Performance = 12 [spaces/min] \n",
      "\n",
      "Extreme  =  55 spaces to fill ,time to solve =  377 [s]\n",
      "blank spaces = 67.90 %\n",
      "Fill Performance = 9 [spaces/min] \n",
      "\n"
     ]
    }
   ],
   "source": [
    "print('Total    = ', 81)\n",
    "def Performance(p, spaces, time, total=81):\n",
    "  print(p, spaces, 'spaces to fill ,time to solve = ', time, '[s]'); \n",
    "  print('blank spaces = %.2f %%'%(spaces/total*100)   )\n",
    "  print('Fill Performance = %.0f [spaces/min] \\n'%(spaces/time*60))\n",
    "Performance('Beginner = ', 1+5+4+4+2+3+3+2, 41)\n",
    "Performance('Easy     = ',  5+5+6+4+3+4+3+3+4, 60+21  )\n",
    "Performance('Medium   = ',  4+4+7+3+8+8+3+6+3, 120+41 )\n",
    "Performance('Hard     = ',  5+7+7+4+7+5+7+5+6, 60*4+25)\n",
    "Performance('Extreme  = ',  6+7+6+7+5+6+5+8+5, 6*60+17)\n"
   ]
  }
 ],
 "metadata": {
  "kernelspec": {
   "display_name": "Python 3.8.11 ('base')",
   "language": "python",
   "name": "python3"
  },
  "language_info": {
   "codemirror_mode": {
    "name": "ipython",
    "version": 3
   },
   "file_extension": ".py",
   "mimetype": "text/x-python",
   "name": "python",
   "nbconvert_exporter": "python",
   "pygments_lexer": "ipython3",
   "version": "3.8.11"
  },
  "vscode": {
   "interpreter": {
    "hash": "1f386286da8fb93a24d26f8c525392020acf295f98d16f04efa07bd1460f1f53"
   }
  }
 },
 "nbformat": 4,
 "nbformat_minor": 5
}
