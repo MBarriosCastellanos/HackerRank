{
 "cells": [
  {
   "cell_type": "markdown",
   "id": "a61db99a",
   "metadata": {},
   "source": [
    "# Introduction"
   ]
  },
  {
   "cell_type": "markdown",
   "id": "87ccebd7",
   "metadata": {},
   "source": [
    "## Day 0: Hello World"
   ]
  },
  {
   "cell_type": "markdown",
   "id": "ed6f1f89",
   "metadata": {},
   "source": [
    "To complete this challenge, you must save a line of input from stdin to a variable, print Hello, World. on a single line, and finally print the value of your variable on a second line.\n",
    "\n",
    "You've got this!\n",
    "\n",
    "Note: The instructions are Java-based, but we support submissions in many popular languages. You can switch languages using the drop-down menu above your editor, and the $inputString$\n",
    "variable may be written differently depending on the best-practice conventions of your submission language"
   ]
  },
  {
   "cell_type": "code",
   "execution_count": 44,
   "id": "620899c5",
   "metadata": {},
   "outputs": [
    {
     "name": "stdout",
     "output_type": "stream",
     "text": [
      "Hello, World.\n"
     ]
    }
   ],
   "source": [
    "print('Hello, World.')"
   ]
  },
  {
   "cell_type": "markdown",
   "id": "845a71b2",
   "metadata": {},
   "source": [
    "## Day 1: Data Types"
   ]
  },
  {
   "cell_type": "markdown",
   "id": "f1dc7b6a",
   "metadata": {},
   "source": [
    "Complete the code in the editor below. The variables $i$, $d$, and $s$\n",
    "\n",
    "are already declared and initialized for you. You must:\n",
    "\n",
    "  1.  Declare variables: one of type int, one of type double, and one of type String.\n",
    "  2. Read lines of input from stdin (according to the sequence given in the Input Format section below) and initialize your 3 variables.\n",
    "  3. Use the + operator to perform the following operations:\n",
    "    - Print the sum of $i$ plus your int variable on a new line.\n",
    "    - Print the sum of $d$ plus your double variable to a scale of one decimal place on a new line.\n",
    "    - Concatenate $s$ with the string you read as input and print the result on a new line. "
   ]
  },
  {
   "cell_type": "code",
   "execution_count": 45,
   "id": "5a9dba17",
   "metadata": {},
   "outputs": [
    {
     "name": "stdout",
     "output_type": "stream",
     "text": [
      "16\n",
      "8.0\n",
      "HackerRankis the best place to learn and practice coding!\n"
     ]
    }
   ],
   "source": [
    "ii = 12\n",
    "dd = 4.0\n",
    "ss = 'is the best place to learn and practice coding!'\n",
    "# Read and save an integer, double, and String to your variables.\n",
    "\n",
    "print(4 + ii)\n",
    "# Print the sum of both integer variables on a new line.\n",
    "\n",
    "print(4.0 + dd)\n",
    "# Print the sum of the double variables on a new line.\n",
    "\n",
    "print('HackerRank' + ss)\n",
    "# Concatenate and print the String variables on a new line\n",
    "# The 's' variable above should be printed first."
   ]
  },
  {
   "cell_type": "markdown",
   "id": "5f207da9",
   "metadata": {},
   "source": [
    "## Day 2: Operators"
   ]
  },
  {
   "cell_type": "markdown",
   "id": "11b56860",
   "metadata": {},
   "source": [
    "Given the meal price (base cost of a meal), tip percent (the percentage of the meal price being added as tip), and tax percent (the percentage of the meal price being added as tax) for a meal, find and print the meal's total cost. Round the result to the nearest integer."
   ]
  },
  {
   "cell_type": "code",
   "execution_count": 46,
   "id": "ea60240e",
   "metadata": {},
   "outputs": [
    {
     "name": "stdout",
     "output_type": "stream",
     "text": [
      "15\n"
     ]
    }
   ],
   "source": [
    "def solve(meal_cost, tip_percent, tax_percent):\n",
    "  # Write your code here\n",
    "  tip = meal_cost*tip_percent/100\n",
    "  tax = meal_cost*tax_percent/100\n",
    "  total_cost = meal_cost + tip + tax\n",
    "  return round(total_cost)\n",
    "\n",
    "if __name__ == '__main__':\n",
    "  meal_cost = 12.0\n",
    "\n",
    "  tip_percent = 20\n",
    "\n",
    "  tax_percent = 8\n",
    "\n",
    "  s = solve(meal_cost, tip_percent, tax_percent)\n",
    "  print(s)\n"
   ]
  },
  {
   "cell_type": "markdown",
   "id": "d9de3ce3",
   "metadata": {},
   "source": [
    "## Day 3: Intro to Conditional Statements"
   ]
  },
  {
   "cell_type": "markdown",
   "id": "d6e3864f",
   "metadata": {},
   "source": [
    "Given an integer, $n$, perform the following conditional actions:\n",
    "\n",
    "- If $n$ is odd, print Weird\n",
    "- If $n$ is even and in the inclusive range of $2$ to $5$, print Not Weird\n",
    "- If $n$ is even and in the inclusive range of $6$ to $10$, print Weird\n",
    "- If $n$ is even and greater than $20$, print Not Weird\n",
    "\n",
    "Complete the stub code provided in your editor to print whether or not\n",
    "is weird."
   ]
  },
  {
   "cell_type": "code",
   "execution_count": 47,
   "id": "ffd31f97",
   "metadata": {},
   "outputs": [
    {
     "name": "stdout",
     "output_type": "stream",
     "text": [
      "Weird\n"
     ]
    }
   ],
   "source": [
    "import math\n",
    "import os\n",
    "import random\n",
    "import re\n",
    "import sys\n",
    "\n",
    "if __name__ == '__main__':\n",
    "  N = 3 #int(input().strip())\n",
    "  if (N % 2 ==1) or (N % 2 ==0 and N>=6 and N<=20):\n",
    "    print('Weird')\n",
    "  else: #(N % 2 ==0) and ((N>=2 and N<=5) or (N>20)) :\n",
    "    print('Not Weird')"
   ]
  },
  {
   "cell_type": "markdown",
   "id": "a1ce9632",
   "metadata": {},
   "source": [
    "## Day 4: Class vs. Instance"
   ]
  },
  {
   "cell_type": "markdown",
   "id": "6be8cfa5",
   "metadata": {},
   "source": [
    "Write a Person class with an instance variable, $age$, and a constructor that takes an integer, $initial Age$, as a parameter. The constructor must assign $initial Age$ to after $Age$ confirming the argument passed as $initial Age$ is not negative; if a negative argument is passed as $initial Age$, the constructor should set $Age$ to $0$ and print $Age is not valid$, \"setting age to 0.\". In addition, you must write the following instance methods:\n",
    "\n",
    "1. yearPasses() should increase the $age$ instance variable by $1$.\n",
    "2. amIOld() should perform the following conditional actions:\n",
    "\n",
    "  - If $age$ < 13 print You are young..\n",
    "  - If $age$ >= 13 and $age$ < 18, print You are a teenager..\n",
    "  - Otherwise, print You are old..\n",
    "\n",
    "To help you learn by example and complete this challenge, much of the code is provided for you, but you'll be writing everything in the future. The code that creates each instance of your Person class is in the main method. Don't worry if you don't understand it all quite yet!\n",
    "\n",
    "Note: Do not remove or alter the stub code in the editor."
   ]
  },
  {
   "cell_type": "code",
   "execution_count": 48,
   "id": "770f4756",
   "metadata": {},
   "outputs": [],
   "source": [
    "class Person:\n",
    "  def __init__(self,initialAge):\n",
    "    self.age = initialAge\n",
    "    if self.age < 0:\n",
    "      self.age = 0\n",
    "      print('Age is not valid, setting age to 0.')\n",
    "    # Add some more code to run some checks on initialAge\n",
    "  def amIOld(self):\n",
    "    # Do some computations in here and print out the correct statement to the console\n",
    "    if self.age < 13:\n",
    "      print('You are young.')\n",
    "    elif self.age < 18:\n",
    "      print('You are a teenager.')\n",
    "    else:\n",
    "      print('You are old.')    \n",
    "  def yearPasses(self):\n",
    "    self.age += 1  \n",
    "    # Increment the age of the person in here"
   ]
  },
  {
   "cell_type": "markdown",
   "id": "fcc0522d",
   "metadata": {},
   "source": [
    "## Day 5 Loops"
   ]
  },
  {
   "cell_type": "markdown",
   "id": "f56a109f",
   "metadata": {},
   "source": [
    "Given an integer $n$, , print its first 10 multiples. Each $n \\times i$ multiple (where $1<= i < 10$) should be printed on a new line in the form: n $\\times$ i = result."
   ]
  },
  {
   "cell_type": "code",
   "execution_count": 49,
   "id": "c046b727",
   "metadata": {},
   "outputs": [
    {
     "name": "stdout",
     "output_type": "stream",
     "text": [
      "15 x 1 = 15\n",
      "15 x 2 = 30\n",
      "15 x 3 = 45\n",
      "15 x 4 = 60\n",
      "15 x 5 = 75\n",
      "15 x 6 = 90\n",
      "15 x 7 = 105\n",
      "15 x 8 = 120\n",
      "15 x 9 = 135\n",
      "15 x 10 = 150\n"
     ]
    }
   ],
   "source": [
    "import math\n",
    "import os\n",
    "import random\n",
    "import re\n",
    "import sys\n",
    "\n",
    "if __name__ == '__main__':\n",
    "  n = 15#int(input().strip())\n",
    "  for i in range(10):\n",
    "    print( '%s x %s = %s'%(n, i + 1, n*(i+1) ) )\n"
   ]
  },
  {
   "cell_type": "markdown",
   "id": "c624c206",
   "metadata": {},
   "source": [
    "## Day 6: Let's Review"
   ]
  },
  {
   "cell_type": "markdown",
   "id": "6e9db27b",
   "metadata": {},
   "source": [
    "Given a string, $S$, of length $N$ that is indexed from $0$ to $N - 1$, print its even-indexed and odd-indexed characters as $2$ space-separated strings on a single line (see the Sample below for more detail).\n",
    "\n",
    "Note: $0$ is considered to be an even index. "
   ]
  },
  {
   "cell_type": "code",
   "execution_count": 50,
   "id": "53d252c0",
   "metadata": {},
   "outputs": [
    {
     "name": "stdout",
     "output_type": "stream",
     "text": [
      "Hce akr\n",
      "Rn ak\n"
     ]
    }
   ],
   "source": [
    "T = 2#int(input())\n",
    "ss = ['Hacker', 'Rank']\n",
    "for i in range(T):\n",
    "  S = ss[i] #str(input())\n",
    "  sa = ''.join([s for i, s in enumerate(S) if i%2 ==0])\n",
    "  sb = ''.join([s for i, s in enumerate(S) if i%2 ==1])\n",
    "  print('%s %s'%(sa, sb))"
   ]
  },
  {
   "cell_type": "markdown",
   "id": "161aa487",
   "metadata": {},
   "source": [
    "# Data types"
   ]
  },
  {
   "cell_type": "markdown",
   "id": "52c9521c",
   "metadata": {},
   "source": [
    "## Day 7: Arrays"
   ]
  },
  {
   "cell_type": "markdown",
   "id": "cae0d9fe",
   "metadata": {},
   "source": [
    "Given an array, $A$, of $N$ integers, print $A$'s elements in reverse order as a single line of space-separated numbers. "
   ]
  },
  {
   "cell_type": "code",
   "execution_count": 51,
   "id": "8f258f67",
   "metadata": {},
   "outputs": [
    {
     "name": "stdout",
     "output_type": "stream",
     "text": [
      "4 3 2\n"
     ]
    }
   ],
   "source": [
    "import math\n",
    "import os\n",
    "import random\n",
    "import re\n",
    "import sys\n",
    "\n",
    "if __name__ == '__main__':\n",
    "  n = 13#int(input().strip())\n",
    "  arr = [2, 3, 4]#list(map(int, input().rstrip().split()))\n",
    "  print(' '.join( [str(i) for i in arr[::-1]]))\n"
   ]
  },
  {
   "cell_type": "markdown",
   "id": "69c80a0f",
   "metadata": {},
   "source": [
    "## Day 8: Dictionaries and Maps"
   ]
  },
  {
   "cell_type": "markdown",
   "id": "6b62ddbb",
   "metadata": {},
   "source": [
    "Given $n$ names and phone numbers, assemble a phone book that maps friends' names to their respective phone numbers. You will then be given an unknown number of names to query your phone book for. For each $name$ queried, print the associated entry from your phone book on a new line in the form name=phoneNumber; if an entry for $name$ is not found, print Not found instead.\n",
    "\n",
    "Note: Your phone book should be a Dictionary/Map/HashMap data structure. "
   ]
  },
  {
   "cell_type": "code",
   "execution_count": 52,
   "id": "925d9562",
   "metadata": {},
   "outputs": [
    {
     "name": "stdout",
     "output_type": "stream",
     "text": [
      "sam=99912222\n",
      "Not found\n",
      "harry=12299933\n"
     ]
    }
   ],
   "source": [
    "n = 3#int(input())\n",
    "N = ['sam 99912222', 'tom 11122222', 'harry 12299933']\n",
    "names = ['sam', 'edward', 'harry']; k = 0\n",
    "Dict = {}\n",
    "for i in range(n):\n",
    "  nn = N[i].split(' ') #input().split(' ')\n",
    "  Dict[nn[0]]= int(nn[1])\n",
    "status = True\n",
    "while status:\n",
    "  try:\n",
    "    name = names[k]#input()\n",
    "    if name in Dict.keys():\n",
    "      print('%s=%s'%(name, Dict[name]))\n",
    "    else:\n",
    "      print('Not found')\n",
    "  except:\n",
    "    status = False\n",
    "  k +=1"
   ]
  },
  {
   "cell_type": "markdown",
   "id": "39c67fc8",
   "metadata": {},
   "source": [
    "## Day 9: Recursion 3 "
   ]
  },
  {
   "cell_type": "markdown",
   "id": "4034345a",
   "metadata": {},
   "source": [
    "### Objective\n",
    "\n",
    "Today, we are learning about an algorithmic concept called recursion. Check out the Tutorial tab for learning materials and an instructional video.\n",
    "\n",
    "### Recursive Method for Calculating Factorial\n",
    "\n",
    "\\begin{equation}\n",
    "factorial(N) = \n",
    "\\begin{cases}\n",
    "1 &N<=1\\\\\n",
    "N \\times factorial(N-1) & otherwise\n",
    "\\end{cases}\n",
    "\\end{equation}\n",
    "\n",
    "### Function Description\n",
    "\n",
    "Complete the factorial function in the editor below. Be sure to use recursion.\n",
    "\n",
    "factorial has the following parameter:\n",
    "\n",
    "  - int n: an integer\n"
   ]
  },
  {
   "cell_type": "code",
   "execution_count": 53,
   "id": "36f3d713",
   "metadata": {},
   "outputs": [
    {
     "name": "stdout",
     "output_type": "stream",
     "text": [
      "24\n"
     ]
    }
   ],
   "source": [
    "import math\n",
    "import os\n",
    "import random\n",
    "import re\n",
    "import sys\n",
    "\n",
    "factorial = lambda n: 1 if n<=1 else  n*factorial(n-1)            # factorial\n",
    "\n",
    "if __name__ == '__main__':\n",
    "  n = 4#int(input().strip())\n",
    "  result = factorial(n)\n",
    "  print(result)"
   ]
  },
  {
   "cell_type": "markdown",
   "id": "83cd1528",
   "metadata": {},
   "source": [
    "## Day 10: Binary Numbers"
   ]
  },
  {
   "cell_type": "markdown",
   "id": "4efd908b",
   "metadata": {},
   "source": [
    "Given a base-10 integer, $n$, convert it to binary (base-2). Then find and print the base-10 integer denoting the maximum number of consecutive 1's in n's binary representation. When working with different bases, it is common to show the base as a subscript. "
   ]
  },
  {
   "cell_type": "code",
   "execution_count": 54,
   "id": "010e3851",
   "metadata": {},
   "outputs": [
    {
     "name": "stdout",
     "output_type": "stream",
     "text": [
      "4\n"
     ]
    }
   ],
   "source": [
    "import math\n",
    "import os\n",
    "import random\n",
    "import re\n",
    "import sys\n",
    "\n",
    "if __name__ == '__main__':\n",
    "  n = 15#int(input().strip())    # print(bin(n))\n",
    "  list_cons = []              # list consecutive ones             \n",
    "  ones = 0                    # count consecutive ones\n",
    "  while n>0:                  # while not find conversion\n",
    "    res = n % 2               # remainder     \n",
    "    # bina.append(str(res))   # get the binary listed\n",
    "    if res ==1:               # if binary have one\n",
    "      ones += 1               # count ones\n",
    "    else:                     # add to list and reset ones\n",
    "      list_cons.append(ones); ones = 0\n",
    "    n = int((n-res)/2)        # go to next divisor\n",
    "  else:\n",
    "    list_cons.append(ones)    # add to list\n",
    "  print(max(list_cons))\n",
    "  #print(''.join(bina[::-1])) # print the binary"
   ]
  },
  {
   "cell_type": "markdown",
   "id": "0f991f34",
   "metadata": {},
   "source": [
    "## Day 11: HourGlasses"
   ]
  },
  {
   "cell_type": "markdown",
   "id": "9dc35829",
   "metadata": {},
   "source": [
    "### Objective\n",
    "\n",
    "Today, we are building on our knowledge of arrays by adding another dimension. Check out the Tutorial tab for learning materials and an instructional video. \n",
    "\n",
    "### Context\n",
    "\n",
    "Given a 2D Array, : \n",
    "\n",
    "\\begin{equation}\n",
    "\\begin{matrix}\n",
    "1& 1& 1& 0& 0& 0\\\\\n",
    "0& 1& 0& 0& 0& 0\\\\\n",
    "1& 1& 1& 0& 0& 0\\\\\n",
    "0& 0& 0& 0& 0& 0\\\\\n",
    "0& 0& 0& 0& 0& 0\\\\\n",
    "0& 0& 0& 0& 0& 0\\\\\n",
    "\\end{matrix}\n",
    "\\end{equation}\n",
    "\n",
    "We define an hourglass in $A$ to be a subset of values with indices falling in this pattern in $A$'s graphical representation:\n",
    "\n",
    "\\begin{equation}\n",
    "\\begin{matrix}\n",
    "a& b& c\\\\\n",
    " & d&  \\\\\n",
    "e& f& g\\\\\n",
    "\\end{matrix}\n",
    "\\end{equation}\n",
    "\n",
    "There are 16 hourglasses in $A$, and an hourglass sum is the sum of an hourglass'values.\n",
    "\n",
    "### Task\n",
    "Calculate the hourglass sum for every hourglass in $A$, then print the maximum hourglass sum.\n",
    "\n"
   ]
  },
  {
   "cell_type": "code",
   "execution_count": 55,
   "id": "9251b0f9",
   "metadata": {},
   "outputs": [
    {
     "name": "stdout",
     "output_type": "stream",
     "text": [
      "19\n"
     ]
    }
   ],
   "source": [
    "import math\n",
    "import os\n",
    "import random\n",
    "import re\n",
    "import sys\n",
    "\n",
    "if __name__ == '__main__':\n",
    "  arr = []\n",
    "  #for _ in range(6):\n",
    "  #  arr.append(list(map(int, input().rstrip().split())))\n",
    "  arr = [\n",
    "    [1, 1, 1, 0, 0, 0],\n",
    "    [0, 1, 0, 0, 0, 0],\n",
    "    [1, 1, 1, 0, 0, 0],\n",
    "    [0, 0, 2, 4, 4, 0],\n",
    "    [0, 0, 0, 2, 0, 0],\n",
    "    [0, 0, 1, 2, 4, 0]\n",
    "  ]\n",
    "  l = len(arr)\n",
    "  hourglass_max = -1e300\n",
    "  for i  in range(l-2):\n",
    "    for j in range(l-2):   \n",
    "      hourglass = sum(arr[i][j:j+3]) + arr[i+1][j+1] + sum(arr[i+2][j:j+3])\n",
    "      if hourglass> hourglass_max:\n",
    "        hourglass_max = hourglass\n",
    "      \n",
    "print(hourglass_max)"
   ]
  },
  {
   "cell_type": "markdown",
   "id": "d3a7f6b9",
   "metadata": {},
   "source": [
    "# Classes"
   ]
  },
  {
   "cell_type": "markdown",
   "id": "368833dd",
   "metadata": {},
   "source": [
    "## Day 12: inherent class"
   ]
  },
  {
   "cell_type": "markdown",
   "id": "69575f62",
   "metadata": {},
   "source": [
    "You are given two classes, Person and Student, where Person is the base class and Student is the derived class. Completed code for Person and a declaration for Student are provided for you in the editor. Observe that Student inherits all the properties of Person.\n",
    "\n",
    "Complete the Student class by writing the following:\n",
    "\n",
    "- A Student class constructor, which has parameters: \n",
    "  1.  A string $first Name$\n",
    "  2.  A string $last Name$\n",
    "  3.  a integer, $id Number$\n",
    "  4.  An integer array (or vector) of test scores, $scores$.\n",
    "- A char calculate() method that calculates a Student object's average and returns the grade character representative of their calculated average:\n",
    "\n",
    "grading scale\n",
    "\n",
    "\\begin{equation}\n",
    "\\begin{cases}\n",
    "O& 90 <= a <= 100\\\\\n",
    "E& 80 <= a < 90\\\\\n",
    "A& 70 <= a < 80\\\\\n",
    "P& 55 <= a < 70\\\\\n",
    "D& 40 <= a < 55\\\\\n",
    "T&  a < 40\n",
    "\\end{cases}\n",
    "\\end{equation}"
   ]
  },
  {
   "cell_type": "code",
   "execution_count": 56,
   "id": "1bef16e0",
   "metadata": {},
   "outputs": [
    {
     "name": "stdout",
     "output_type": "stream",
     "text": [
      "Name: Memelli, Heraldo\n",
      "ID: 8135627\n"
     ]
    },
    {
     "data": {
      "text/plain": [
       "'O'"
      ]
     },
     "execution_count": 56,
     "metadata": {},
     "output_type": "execute_result"
    }
   ],
   "source": [
    "class Person:\n",
    "\tdef __init__(self, firstName, lastName, idNumber):\n",
    "\t\tself.firstName = firstName\n",
    "\t\tself.lastName = lastName\n",
    "\t\tself.idNumber = idNumber\n",
    "\tdef printPerson(self):\n",
    "\t\tprint(\"Name:\", self.lastName + \",\", self.firstName)\n",
    "\t\tprint(\"ID:\", self.idNumber)\n",
    "class Student(Person):\n",
    "  def __init__(self, firstName, lastName, idNumber, scores):\n",
    "    super().__init__( firstName, lastName, idNumber)\n",
    "    self.scores = scores\n",
    "  def calculate(self):\n",
    "    grade = sum(self.scores)/len(self.scores)\n",
    "    if grade < 40:\n",
    "      return 'T'\n",
    "    elif grade < 55:\n",
    "      return 'D'\n",
    "    elif grade < 70:\n",
    "      return 'P'\n",
    "    elif grade < 80:\n",
    "      return 'A'\n",
    "    elif grade < 90:\n",
    "      return 'E'\n",
    "    else:\n",
    "      return 'O'\n",
    "\n",
    "s = Student('Heraldo', 'Memelli', '8135627', [100, 80])\n",
    "s.printPerson()\n",
    "s.calculate()"
   ]
  },
  {
   "cell_type": "markdown",
   "id": "e62436aa",
   "metadata": {},
   "source": [
    "## Day 13:  abstract class"
   ]
  },
  {
   "cell_type": "markdown",
   "id": "31870610",
   "metadata": {},
   "source": [
    "Given a Book class and a Solution class, write a MyBook class that does the following:\n",
    "\n",
    "- Inherits from Book\n",
    "- Has a parameterized constructor taking these 3 parameters:\n",
    "\n",
    "  1. string $tittle$\n",
    "  1. string $author$\n",
    "  1. int $price$\n",
    "\n",
    "- Implements the Book class' abstract display() method so it prints these 3 lines:\n",
    "\n",
    "  1.Title: a space, and then the current instance's $title$.\n",
    "  1.Author: a space, and then the current instance's $author$.\n",
    "  1.Price: a space, and then the current instance's $price$.\n",
    "\n",
    "Note: Because these classes are being written in the same file, you must not use an access modifier (e.g.: public\n",
    ") when declaring MyBook or your code will not execute."
   ]
  },
  {
   "cell_type": "code",
   "execution_count": 57,
   "id": "4e8e3309",
   "metadata": {},
   "outputs": [
    {
     "name": "stdout",
     "output_type": "stream",
     "text": [
      "Title: The Alchemist\n",
      "Author: Paulo Coelho\n",
      "Price: 248\n"
     ]
    }
   ],
   "source": [
    "from abc import ABCMeta, abstractmethod\n",
    "class Book(object, metaclass=ABCMeta):\n",
    "  def __init__(self,title,author):\n",
    "    self.title=title\n",
    "    self.author=author   \n",
    "  @abstractmethod\n",
    "  def display(): pass\n",
    "class MyBook(Book):\n",
    "  price = 0\n",
    "  def __init__(self, title, author, price):\n",
    "    super().__init__(title, author)\n",
    "    self.price = price\n",
    "  def display(self):\n",
    "    print('Title: %s'%self.title)\n",
    "    print('Author: %s'%self.author)\n",
    "    print('Price: %s'%self.price)\n",
    "title='The Alchemist'\n",
    "author='Paulo Coelho'\n",
    "price=int(248)\n",
    "new_novel=MyBook(title,author,price)\n",
    "new_novel.display()"
   ]
  },
  {
   "cell_type": "markdown",
   "id": "9cd2d9b5",
   "metadata": {},
   "source": [
    "## Day 14: Scope"
   ]
  },
  {
   "cell_type": "markdown",
   "id": "13045210",
   "metadata": {},
   "source": [
    "Complete the Difference class by writing the following:\n",
    "\n",
    "  - A class constructor that takes an array of integers as a parameter and saves it to the _elements instance variable.\n",
    "  - A computeDifference method that finds the maximum absolute difference between any 2 numbers in _elements and stores it in the maximumDifference instance variable. "
   ]
  },
  {
   "cell_type": "code",
   "execution_count": 58,
   "id": "14fbf3ae",
   "metadata": {},
   "outputs": [],
   "source": [
    "def computeDifference(self):\n",
    "    self.maximumDifference = max(self.__elements) - min(self.__elements)"
   ]
  },
  {
   "cell_type": "markdown",
   "id": "6e8bb507",
   "metadata": {},
   "source": [
    "## Day 15: Linked list"
   ]
  },
  {
   "cell_type": "markdown",
   "id": "d2776a4e",
   "metadata": {},
   "source": [
    "Complete the insert function in your editor so that it creates a new Node (pass $data$ as the Node constructor argument) and inserts it at the tail of the linked list referenced by the $head$ parameter. Once the new node is added, return the reference to  the $head$ node.\n",
    "\n",
    "Note: The $head$ argument is null for an empty list. "
   ]
  },
  {
   "cell_type": "code",
   "execution_count": 59,
   "id": "0f4afddc",
   "metadata": {},
   "outputs": [
    {
     "name": "stdout",
     "output_type": "stream",
     "text": [
      "2 3 4 1 "
     ]
    }
   ],
   "source": [
    "# linked list\n",
    "class Node:\n",
    "  def __init__(self,data):\n",
    "    self.data = data\n",
    "    self.next = None \n",
    "class Solution: \n",
    "  def display(self,head):\n",
    "    current = head\n",
    "    while current:\n",
    "      print(current.data,end=' ')\n",
    "      current = current.next\n",
    "\n",
    "  def insert(self,head,data):  \n",
    "    if head==None:\n",
    "      head = Node(data)\n",
    "    else:\n",
    "      node = head\n",
    "      while node.next:\n",
    "        node = node.next\n",
    "      else:\n",
    "        node.next = Node(data)\n",
    "    return head\n",
    "\n",
    "mylist= Solution()\n",
    "Data = [2, 3, 4, 1]\n",
    "head=None\n",
    "for data in Data:\n",
    "    head=mylist.insert(head,data)   \n",
    "mylist.display(head); \t  "
   ]
  },
  {
   "cell_type": "markdown",
   "id": "eeaa3548",
   "metadata": {},
   "source": [
    "# Exeptions"
   ]
  },
  {
   "cell_type": "markdown",
   "id": "23b30242",
   "metadata": {},
   "source": [
    "## Day 16: Exeptions -  String to integer"
   ]
  },
  {
   "cell_type": "markdown",
   "id": "61a1f5bb",
   "metadata": {},
   "source": [
    "Read a string, $S$, and print its integer value; if $S$ cannot be converted to an integer, print Bad String.\n",
    "\n",
    "Note: You must use the String-to-Integer and exception handling constructs built into your submission language. If you attempt to use loops/conditional statements, you will get a 0 score."
   ]
  },
  {
   "cell_type": "code",
   "execution_count": 60,
   "id": "ade2dfaa",
   "metadata": {},
   "outputs": [
    {
     "name": "stdout",
     "output_type": "stream",
     "text": [
      "Bad String\n"
     ]
    }
   ],
   "source": [
    "S = 'input()'\n",
    "try: \n",
    "  n = int(S) \n",
    "  print(n)\n",
    "except ValueError:\n",
    "  print('Bad String')"
   ]
  },
  {
   "cell_type": "markdown",
   "id": "ceffa52c",
   "metadata": {},
   "source": [
    "## Day xx: Decorations"
   ]
  },
  {
   "cell_type": "markdown",
   "id": "fdbfaced",
   "metadata": {},
   "source": []
  },
  {
   "cell_type": "code",
   "execution_count": 61,
   "id": "604f0d50",
   "metadata": {},
   "outputs": [
    {
     "name": "stdout",
     "output_type": "stream",
     "text": [
      "Mr. Mike Thomson\n",
      "Ms. Andria Bustle\n",
      "Mr. Robert Bustle\n"
     ]
    }
   ],
   "source": [
    "\n",
    "idade = lambda x: x[2]\n",
    "def person_lister(f):\n",
    "    def inner(people):\n",
    "        # complete the function\n",
    "        return map(f, sorted(people, key=idade))          \n",
    "    return inner\n",
    "\n",
    "@person_lister\n",
    "def name_format(person):\n",
    "    return (\"Mr. \" if person[3] == \"M\" else \"Ms. \") + person[0] + \" \" + person[1]\n",
    "\n",
    "people = [['Mike', 'Thomson', '20', 'M'], ['Robert', 'Bustle', '32', 'M'], ['Andria', 'Bustle', '30', 'F']]\n",
    "print ('\\n'.join(name_format(people)))\n",
    "\n"
   ]
  },
  {
   "cell_type": "markdown",
   "id": "b2915f1e",
   "metadata": {},
   "source": [
    "## Day 17:  More Exceptions"
   ]
  },
  {
   "cell_type": "markdown",
   "id": "185c529d",
   "metadata": {},
   "source": [
    "Write a Calculator class with a single method: int power(int,int). The power method takes two integers, and , as parameters and returns the integer result of . If either $n$ or $p$ is negative, then the method must throw an exception with the message: n and p should be non-negative.\n",
    "\n",
    "Note: Do not use an access modifier (e.g.: public) in the declaration for your Calculator class."
   ]
  },
  {
   "cell_type": "code",
   "execution_count": 62,
   "id": "1471355c",
   "metadata": {},
   "outputs": [
    {
     "name": "stdout",
     "output_type": "stream",
     "text": [
      "81\n",
      "n and p should be non-negative\n",
      "n and p should be non-negative\n",
      "n and p should be non-negative\n"
     ]
    }
   ],
   "source": [
    "#Write your code here\n",
    "class Calculator(object):\n",
    "  def __init__(self):\n",
    "    pass\n",
    "  def power(self, n, p):\n",
    "    if n>=0 and p>=0:\n",
    "      return n**p\n",
    "    else:\n",
    "      raise ValueError('n and p should be non-negative')\n",
    "#e = 'n and p should be non-negative'\n",
    "\n",
    "\n",
    "myCalculator=Calculator()\n",
    "T=4\n",
    "data = [[3, 4],  [-3, -5], [-3, 5], [3, -5]]\n",
    "for i in range(T):\n",
    "  n,p = data[i]\n",
    "  try:\n",
    "    ans=myCalculator.power(n,p)\n",
    "    print(ans)\n",
    "  except Exception as e:\n",
    "    print(e)   "
   ]
  },
  {
   "cell_type": "markdown",
   "id": "1ac55804",
   "metadata": {},
   "source": [
    "# Object-oriented programming (CLasses II)"
   ]
  },
  {
   "cell_type": "markdown",
   "id": "1d49a0bf",
   "metadata": {},
   "source": [
    "## Day 18: Queues and Stacks"
   ]
  },
  {
   "cell_type": "markdown",
   "id": "34ff0c44",
   "metadata": {},
   "source": [
    "A palindrome is a word, phrase, number, or other sequence of characters which reads the same backwards and forwards. Can you determine if a given string, $s$, is a palindrome?\n",
    "\n",
    "To solve this challenge, we must first take each character in $s$, enqueue it in a queue, and also push that same character onto a stack. Once that's done, we must dequeue the first character from the queue and pop the top character off the stack, then compare the two characters to see if they are the same; as long as the characters match, we continue dequeueing, popping, and comparing each character until our containers are empty (a non-match means $s$ isn't a palindrome). \n",
    "\n",
    "Write the following declarations and implementations:\n",
    "\n",
    "1. Two instance variables: one for your $stack$, and one for your $queue$.\n",
    "2. A void pushCharacter(char ch) method that pushes a character onto a stack.\n",
    "3. A void enqueueCharacter(char ch) method that enqueues a character in the $queue$ instance variable.\n",
    "4. A char popCharacter() method that pops and returns the character at the top of the $stack$ instance variable.\n",
    "5. A char dequeueCharacter() method that dequeues and returns the first character in the $queue$ instance variable.\n",
    "\n"
   ]
  },
  {
   "cell_type": "code",
   "execution_count": 63,
   "id": "f1c9771d",
   "metadata": {},
   "outputs": [
    {
     "name": "stdout",
     "output_type": "stream",
     "text": [
      "The word, yes, is not a palindrome.\n"
     ]
    }
   ],
   "source": [
    "import sys\n",
    "\n",
    "class Solution(object):\n",
    "  # Write your code here\n",
    "  def __init__(self):\n",
    "    self.stack = []\n",
    "    self.queue = []\n",
    "  def pushCharacter(self, s):\n",
    "    self.stack.append(s)\n",
    "  def enqueueCharacter(self, s):\n",
    "    self.queue.append(s)\n",
    "  def popCharacter(self):\n",
    "    return self.stack.pop(-1)\n",
    "  def dequeueCharacter(self):\n",
    "    return self.queue.pop(0)\n",
    "\n",
    "  \n",
    "# read the string s\n",
    "s='yes'\n",
    "#Create the Solution class object\n",
    "obj=Solution()   \n",
    "\n",
    "l=len(s)\n",
    "# push/enqueue all the characters of string s to stack\n",
    "for i in range(l):\n",
    "  obj.pushCharacter(s[i])\n",
    "  obj.enqueueCharacter(s[i])\n",
    "    \n",
    "isPalindrome=True\n",
    "'''\n",
    "pop the top character from stack\n",
    "dequeue the first character from queue\n",
    "compare both the characters\n",
    "''' \n",
    "for i in range(l // 2):\n",
    "  if obj.popCharacter()!=obj.dequeueCharacter():\n",
    "    isPalindrome=False\n",
    "    break\n",
    "#finally print whether string s is palindrome or not.\n",
    "if isPalindrome:\n",
    "  print(\"The word, \"+s+\", is a palindrome.\")\n",
    "else:\n",
    "  print(\"The word, \"+s+\", is not a palindrome.\") "
   ]
  },
  {
   "cell_type": "markdown",
   "id": "d54a8000",
   "metadata": {},
   "source": [
    "## Day 19: Interfaces"
   ]
  },
  {
   "cell_type": "markdown",
   "id": "1dddae10",
   "metadata": {},
   "source": [
    "The AdvancedArithmetic interface and the method declaration for the abstract divisorSum(n) method are provided for you in the editor below.\n",
    "\n",
    "Complete the implementation of Calculator class, which implements the AdvancedArithmetic interface. The implementation for the divisorSum(n) method must return the sum of all divisors of $n$."
   ]
  },
  {
   "cell_type": "code",
   "execution_count": 72,
   "id": "f7b9debb",
   "metadata": {},
   "outputs": [
    {
     "name": "stdout",
     "output_type": "stream",
     "text": [
      "I implemented: AdvancedArithmetic\n",
      "7\n"
     ]
    }
   ],
   "source": [
    "class AdvancedArithmetic(object):\n",
    "  def divisorSum(n):\n",
    "    raise NotImplementedError\n",
    "\n",
    "class Calculator(AdvancedArithmetic):\n",
    "  def divisorSum(self, n):\n",
    "   return sum([i for i in range(1, n+1) if n%i==0])\n",
    "\n",
    "n = 4 #int(input())\n",
    "my_calculator = Calculator()\n",
    "s = my_calculator.divisorSum(n)\n",
    "print(\"I implemented: \" + type(my_calculator).__bases__[0].__name__)\n",
    "print(s)"
   ]
  },
  {
   "cell_type": "markdown",
   "id": "c3558ecb",
   "metadata": {},
   "source": [
    "# Algorithms"
   ]
  },
  {
   "cell_type": "markdown",
   "id": "8c20c68b",
   "metadata": {},
   "source": [
    "## Day 20: Sorting"
   ]
  },
  {
   "cell_type": "markdown",
   "id": "61890e30",
   "metadata": {},
   "source": [
    "Consider the following version of Bubble Sort:\n",
    "\n",
    "```C++\n",
    "for (int i = 0; i < n; i++) {\n",
    "    // Track number of elements swapped during a single array traversal\n",
    "    int numberOfSwaps = 0;\n",
    "    \n",
    "    for (int j = 0; j < n - 1; j++) {\n",
    "        // Swap adjacent elements if they are in decreasing order\n",
    "        if (a[j] > a[j + 1]) {\n",
    "            swap(a[j], a[j + 1]);\n",
    "            numberOfSwaps++;\n",
    "        }\n",
    "    }\n",
    "    // If no elements were swapped during a traversal, array is sorted\n",
    "    if (numberOfSwaps == 0) {\n",
    "        break;\n",
    "    }\n",
    "}\n",
    "```\n",
    "\n",
    "### Task\n",
    "\n",
    "Given an array, $a$, of size $n$ distinct elements, sort the array in ascending order using the Bubble Sort algorithm above. Once sorted, print the following 3 lines:\n",
    "\n",
    "  1. Array is sorted in numSwaps swaps.\\\\\n",
    "  where $num Swaps$ is the number of swaps that took place.\n",
    "  2. First Element: firstElement.\\\\\n",
    "  where $first Element$ is the first element in the sorted array.\n",
    "  3. Last Element: lastElement.\\\\\n",
    "  where $last Element$ is the last element in the sorted array.\n",
    "\n",
    "Hint: To complete this challenge, you will need to add a variable that keeps a running tally of all swaps that occur during execution. "
   ]
  },
  {
   "cell_type": "code",
   "execution_count": 87,
   "id": "6c7e74b3",
   "metadata": {},
   "outputs": [
    {
     "name": "stdout",
     "output_type": "stream",
     "text": [
      "Array is sorted in 5 swaps.\n",
      "First Element: 1\n",
      "Last Element: 4\n"
     ]
    },
    {
     "data": {
      "text/plain": [
       "[1, 2, 3, 4]"
      ]
     },
     "execution_count": 87,
     "metadata": {},
     "output_type": "execute_result"
    }
   ],
   "source": [
    "import math\n",
    "import os\n",
    "import random\n",
    "import re\n",
    "import sys\n",
    "\n",
    "if __name__ == '__main__':\n",
    "  n = 4#int(input().strip())\n",
    "  a = [4, 3, 1, 2]#list(map(int, input().rstrip().split()))\n",
    "  # Write your code here\n",
    "  t_swaps = 0\n",
    "  for i in range(n):\n",
    "    n_swaps = 0\n",
    "    for j in range(n-1):\n",
    "      if a[j] > a[j + 1]:\n",
    "        a[j], a[j+1] = a[j+1], a[j]\n",
    "        n_swaps +=1\n",
    "    t_swaps = t_swaps + n_swaps\n",
    "    if n_swaps == 0:\n",
    "      break \n",
    "  print(\"Array is sorted in\",t_swaps,\"swaps.\")\n",
    "  print(\"First Element:\",a[0])\n",
    "  print(\"Last Element:\",a[-1])\n",
    "a"
   ]
  },
  {
   "cell_type": "markdown",
   "id": "3921279f",
   "metadata": {},
   "source": [
    "## Day 21: Generics"
   ]
  },
  {
   "cell_type": "markdown",
   "id": "e0474c1e",
   "metadata": {},
   "source": [
    "### Task \n",
    "\n",
    "Write a single generic function named printArray; this function must take an array of generic elements as a parameter (the exception to this is C++, which takes a vector). The locked Solution class in your editor tests your function.\n",
    "\n",
    "Note: You must use generics to solve this challenge. Do not write overloaded functions. "
   ]
  },
  {
   "cell_type": "markdown",
   "id": "16ff7766",
   "metadata": {},
   "source": [
    "```C++\n",
    "\n",
    "#include <iostream>\n",
    "#include <vector>\n",
    "#include <string>\n",
    "\n",
    "using namespace std;\n",
    "/**\n",
    "*    Name: printArray\n",
    "*    Print each element of the generic vector on a new line. Do not return anything.\n",
    "*    @param A generic vector\n",
    "**/\n",
    "// Write your code here\n",
    "template<typename T>void printArray(vector<T> Array){\n",
    "  for(T i:Array)\n",
    "    cout<<i<<endl;\n",
    "  }\n",
    "\n",
    "int main() {\n",
    "\tint n;\n",
    "\tcin >> n;\n",
    "\tvector<int> int_vector(n);\n",
    "\tfor (int i = 0; i < n; i++) {\n",
    "\t\tint value;\n",
    "\t\tcin >> value;\n",
    "\t\tint_vector[i] = value;\n",
    "\t}\n",
    "\tcin >> n;\n",
    "\tvector<string> string_vector(n);\n",
    "\tfor (int i = 0; i < n; i++) {\n",
    "\t\tstring value;\n",
    "\t\tcin >> value;\n",
    "\t\tstring_vector[i] = value;\n",
    "\t}\n",
    "\tprintArray<int>(int_vector);\n",
    "\tprintArray<string>(string_vector);\n",
    "\treturn 0;\n",
    "}\n",
    "```"
   ]
  },
  {
   "cell_type": "markdown",
   "id": "cd025aff",
   "metadata": {},
   "source": [
    "## Day 22: Binary Search Trees"
   ]
  },
  {
   "cell_type": "markdown",
   "id": "59843add",
   "metadata": {},
   "source": [
    "The height of a binary search tree is the number of edges between the tree's root and its furthest leaf. You are given a pointer, $root$, pointing to the root of a binary search tree. Complete the getHeight function provided in your editor so that it returns the height of the binary search tree."
   ]
  },
  {
   "cell_type": "code",
   "execution_count": 1,
   "id": "7199cc64",
   "metadata": {},
   "outputs": [
    {
     "name": "stdout",
     "output_type": "stream",
     "text": [
      "None\n"
     ]
    }
   ],
   "source": [
    "class Node:\n",
    "  def __init__(self,data):\n",
    "    self.right=self.left=None\n",
    "    self.data = data\n",
    "class Solution:\n",
    "  def insert(self,root,data):\n",
    "    if root==None:\n",
    "      return Node(data)\n",
    "    else:\n",
    "      if data<=root.data:\n",
    "        cur=self.insert(root.left,data)\n",
    "        root.left=cur\n",
    "      else:\n",
    "        cur=self.insert(root.right,data)\n",
    "        root.right=cur\n",
    "    return root\n",
    "  def getHeight(self,root):\n",
    "    #Write your code here\n",
    "    pass\n",
    "\n",
    "T=7 #int(input())\n",
    "Data = [3, 5, 2, 1, 4, 6, 7]\n",
    "myTree=Solution()\n",
    "root=None\n",
    "for i in range(T):\n",
    "  #data=int(input())\n",
    "  data = Data[i]\n",
    "  root=myTree.insert(root,data)\n",
    "height=myTree.getHeight(root)\n",
    "print(height)       "
   ]
  },
  {
   "cell_type": "code",
   "execution_count": 2,
   "id": "bc3820b8",
   "metadata": {},
   "outputs": [
    {
     "name": "stdout",
     "output_type": "stream",
     "text": [
      "3\n",
      "2\n",
      "1\n",
      "5\n",
      "4\n",
      "6\n",
      "7\n"
     ]
    }
   ],
   "source": [
    "print( root.data           )\n",
    "print( root.left.data      )  \n",
    "print( root.left.left.data )\n",
    "#print(root.left.right.data)\n",
    "\n",
    "print( root.right.data     )\n",
    "print( root.right.left.data )\n",
    "#print( root.right.left.right.data )\n",
    "#print( root.right.left.left.data )\n",
    "print( root.right.right.data  )\n",
    "#print( root.right.right.left.data  )\n",
    "print( root.right.right.right.data  )\n"
   ]
  },
  {
   "cell_type": "code",
   "execution_count": null,
   "id": "19930f58",
   "metadata": {},
   "outputs": [
    {
     "ename": "",
     "evalue": "",
     "output_type": "error",
     "traceback": [
      "\u001b[1;31mCanceled future for execute_request message before replies were done"
     ]
    },
    {
     "ename": "",
     "evalue": "",
     "output_type": "error",
     "traceback": [
      "\u001b[1;31mThe Kernel crashed while executing code in the the current cell or a previous cell. Please review the code in the cell(s) to identify a possible cause of the failure. Click <a href='https://aka.ms/vscodeJupyterKernelCrash'>here</a> for more info. View Jupyter <a href='command:jupyter.viewOutput'>log</a> for further details."
     ]
    }
   ],
   "source": [
    "root.left.data\n",
    "h =0\n",
    "\n",
    "def H(root):\n",
    "  try:\n",
    "    root.left.data or root.left.data\n",
    "    return H(root) + 1\n",
    "  except:\n",
    "    return H(root)\n",
    "H(root)\n",
    "\n",
    "\n",
    "\n"
   ]
  },
  {
   "cell_type": "code",
   "execution_count": null,
   "id": "c2060497",
   "metadata": {},
   "outputs": [],
   "source": []
  }
 ],
 "metadata": {
  "interpreter": {
   "hash": "83dd65d048c0f4648ef578b05601026a1c3dd6fc47ce8289e32c8382d907e988"
  },
  "kernelspec": {
   "display_name": "Python 3.8.11 ('pyforge')",
   "language": "python",
   "name": "python3"
  },
  "language_info": {
   "codemirror_mode": {
    "name": "ipython",
    "version": 3
   },
   "file_extension": ".py",
   "mimetype": "text/x-python",
   "name": "python",
   "nbconvert_exporter": "python",
   "pygments_lexer": "ipython3",
   "version": "3.8.11"
  }
 },
 "nbformat": 4,
 "nbformat_minor": 5
}
