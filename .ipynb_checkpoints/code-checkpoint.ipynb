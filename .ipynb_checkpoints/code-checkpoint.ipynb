{
 "cells": [
  {
   "cell_type": "markdown",
   "id": "368833dd",
   "metadata": {},
   "source": [
    "# inherent class"
   ]
  },
  {
   "cell_type": "code",
   "execution_count": 4,
   "id": "1bef16e0",
   "metadata": {},
   "outputs": [
    {
     "name": "stdout",
     "output_type": "stream",
     "text": [
      "Name: Memelli, Heraldo\n",
      "ID: 8135627\n"
     ]
    },
    {
     "data": {
      "text/plain": [
       "'O'"
      ]
     },
     "execution_count": 4,
     "metadata": {},
     "output_type": "execute_result"
    }
   ],
   "source": [
    "class Person:\n",
    "\tdef __init__(self, firstName, lastName, idNumber):\n",
    "\t\tself.firstName = firstName\n",
    "\t\tself.lastName = lastName\n",
    "\t\tself.idNumber = idNumber\n",
    "\tdef printPerson(self):\n",
    "\t\tprint(\"Name:\", self.lastName + \",\", self.firstName)\n",
    "\t\tprint(\"ID:\", self.idNumber)\n",
    "class Student(Person):\n",
    "  def __init__(self, firstName, lastName, idNumber, scores):\n",
    "    super().__init__( firstName, lastName, idNumber)\n",
    "    self.scores = scores\n",
    "  def calculate(self):\n",
    "    grade = sum(self.scores)/len(self.scores)\n",
    "    if grade < 40:\n",
    "      return 'T'\n",
    "    elif grade < 55:\n",
    "      return 'D'\n",
    "    elif grade < 70:\n",
    "      return 'P'\n",
    "    elif grade < 80:\n",
    "      return 'A'\n",
    "    elif grade < 90:\n",
    "      return 'E'\n",
    "    else:\n",
    "      return 'O'\n",
    "\n",
    "s = Student('Heraldo', 'Memelli', '8135627', [100, 80])\n",
    "s.printPerson()\n",
    "s.calculate()"
   ]
  },
  {
   "cell_type": "markdown",
   "id": "e62436aa",
   "metadata": {},
   "source": [
    "# abstract class"
   ]
  },
  {
   "cell_type": "code",
   "execution_count": 5,
   "id": "4e8e3309",
   "metadata": {},
   "outputs": [
    {
     "name": "stdout",
     "output_type": "stream",
     "text": [
      "Title: The Alchemist\n",
      "Author: Paulo Coelho\n",
      "Price: 248\n"
     ]
    }
   ],
   "source": [
    "from abc import ABCMeta, abstractmethod\n",
    "class Book(object, metaclass=ABCMeta):\n",
    "  def __init__(self,title,author):\n",
    "    self.title=title\n",
    "    self.author=author   \n",
    "  @abstractmethod\n",
    "  def display(): pass\n",
    "class MyBook(Book):\n",
    "  price = 0\n",
    "  def __init__(self, title, author, price):\n",
    "    super().__init__(title, author)\n",
    "    self.price = price\n",
    "  def display(self):\n",
    "    print('Title: %s'%self.title)\n",
    "    print('Author: %s'%self.author)\n",
    "    print('Price: %s'%self.price)\n",
    "title='The Alchemist'\n",
    "author='Paulo Coelho'\n",
    "price=int(248)\n",
    "new_novel=MyBook(title,author,price)\n",
    "new_novel.display()"
   ]
  },
  {
   "cell_type": "markdown",
   "id": "6e8bb507",
   "metadata": {},
   "source": [
    "# Linked list"
   ]
  },
  {
   "cell_type": "code",
   "execution_count": 6,
   "id": "0f4afddc",
   "metadata": {},
   "outputs": [
    {
     "name": "stdout",
     "output_type": "stream",
     "text": [
      "2 3 4 1 "
     ]
    }
   ],
   "source": [
    "# linked list\n",
    "class Node:\n",
    "  def __init__(self,data):\n",
    "    self.data = data\n",
    "    self.next = None \n",
    "class Solution: \n",
    "  def display(self,head):\n",
    "    current = head\n",
    "    while current:\n",
    "      print(current.data,end=' ')\n",
    "      current = current.next\n",
    "\n",
    "  def insert(self,head,data):  \n",
    "    if head==None:\n",
    "      head = Node(data)\n",
    "    else:\n",
    "      node = head\n",
    "      while node.next:\n",
    "        node = node.next\n",
    "      else:\n",
    "        node.next = Node(data)\n",
    "    return head\n",
    "\n",
    "mylist= Solution()\n",
    "Data = [2, 3, 4, 1]\n",
    "head=None\n",
    "for data in Data:\n",
    "    head=mylist.insert(head,data)   \n",
    "mylist.display(head); \t  "
   ]
  },
  {
   "cell_type": "code",
   "execution_count": null,
   "id": "23b30242",
   "metadata": {},
   "outputs": [],
   "source": []
  }
 ],
 "metadata": {
  "kernelspec": {
   "display_name": "Python [conda env:root] *",
   "language": "python",
   "name": "conda-root-py"
  },
  "language_info": {
   "codemirror_mode": {
    "name": "ipython",
    "version": 3
   },
   "file_extension": ".py",
   "mimetype": "text/x-python",
   "name": "python",
   "nbconvert_exporter": "python",
   "pygments_lexer": "ipython3",
   "version": "3.8.11"
  }
 },
 "nbformat": 4,
 "nbformat_minor": 5
}
