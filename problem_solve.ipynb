{
 "cells": [
  {
   "cell_type": "markdown",
   "metadata": {},
   "source": [
    "# Implementation"
   ]
  },
  {
   "cell_type": "markdown",
   "metadata": {},
   "source": [
    "## Number Line Jumps"
   ]
  },
  {
   "cell_type": "markdown",
   "metadata": {},
   "source": [
    "You are choreographing a circus show with various animals. For one act, you are given two kangaroos on a number line ready to jump in the positive direction (i.e, toward positive infinity).\n",
    "\n",
    "- The first kangaroo starts at location $x1$ and moves at a rate of $v1$ meters per jump.\n",
    "- The second kangaroo starts at location $x2$ and moves at a rate of $v2$ meters per jump.\n",
    "\n",
    "\n",
    "You have to figure out a way to get both kangaroos at the same location at the same time as part of the show. If it is possible, return YES, otherwise return NO. "
   ]
  },
  {
   "cell_type": "code",
   "execution_count": 2,
   "metadata": {},
   "outputs": [
    {
     "name": "stdout",
     "output_type": "stream",
     "text": [
      "9482 9965\n",
      "11693 12015\n",
      "13904 14065\n",
      "16115 16115\n",
      "YES\n"
     ]
    }
   ],
   "source": [
    "#!/bin/python3\n",
    "\n",
    "import math\n",
    "import os\n",
    "import random\n",
    "import re\n",
    "import sys\n",
    "\n",
    "#\n",
    "# Complete the 'kangaroo' function below.\n",
    "#\n",
    "# The function is expected to return a STRING.\n",
    "# The function accepts following parameters:\n",
    "#  1. INTEGER x1\n",
    "#  2. INTEGER v1\n",
    "#  3. INTEGER x2\n",
    "#  4. INTEGER v2\n",
    "#\n",
    "\n",
    "def kangaroo(x1, v1, x2, v2):\n",
    "  # Write your code here\n",
    "  if (x1>x2 and v1>v2) or (x2>x1 and v2>v1):\n",
    "    return 'NO'\n",
    "  else:\n",
    "    x1, x2 = min([x1, x2]), max([x1, x2])\n",
    "    v1, v2 = max([v1, v2]), min([v1, v2])\n",
    "    while x2>x1:\n",
    "      x1 = x1+v1\n",
    "      x2 = x2+v2\n",
    "      print(x1, x2)\n",
    "    if x1==x2:\n",
    "      return 'YES'\n",
    "    else:\n",
    "      return 'NO'  \n",
    "        \n",
    "\n",
    "\n",
    "if __name__ == '__main__':\n",
    "    #fptr = open(os.environ['OUTPUT_PATH'], 'w')\n",
    "\n",
    "    #first_multiple_input = input().rstrip().split()\n",
    "    #first_multiple_input = [0, 2, 5, 3]\n",
    "    #first_multiple_input = [0, 3, 4, 2]\n",
    "    first_multiple_input = [7271, 2211, 7915, 2050]\n",
    "\n",
    "    x1 = int(first_multiple_input[0])\n",
    "    v1 = int(first_multiple_input[1])\n",
    "    x2 = int(first_multiple_input[2])\n",
    "    v2 = int(first_multiple_input[3])\n",
    "    result = kangaroo(x1, v1, x2, v2)\n",
    "    print(result)\n",
    "    #fptr.write(result + '\\n')\n",
    "\n",
    "    #fptr.close()\n"
   ]
  },
  {
   "cell_type": "markdown",
   "metadata": {},
   "source": [
    "## Between Two Sets"
   ]
  },
  {
   "cell_type": "markdown",
   "metadata": {},
   "source": [
    "There will be two arrays of integers. Determine all integers that satisfy the following two conditions:\n",
    "\n",
    "1. The elements of the first array are all factors of the integer being considered\n",
    "2. The integer being considered is a factor of all elements of the second array\n",
    "\n",
    "These numbers are referred to as being between the two arrays. Determine how many such numbers exist."
   ]
  },
  {
   "cell_type": "code",
   "execution_count": 25,
   "metadata": {},
   "outputs": [
    {
     "name": "stdout",
     "output_type": "stream",
     "text": [
      "3\n"
     ]
    }
   ],
   "source": [
    "#!/bin/python3\n",
    "\n",
    "import math\n",
    "import os\n",
    "import random\n",
    "import re\n",
    "import sys\n",
    "\n",
    "#\n",
    "# Complete the 'getTotalX' function below.\n",
    "#\n",
    "# The function is expected to return an INTEGER.\n",
    "# The function accepts following parameters:\n",
    "#  1. INTEGER_ARRAY a\n",
    "#  2. INTEGER_ARRAY b\n",
    "#\n",
    "\n",
    "def getTotalX(a, b):\n",
    "  # Write your code here\n",
    "  m = max(a)\n",
    "  n = min(b)\n",
    "  arr = []\n",
    "  for i in range(m, n+1):\n",
    "    if  not any([i%a_j for a_j in a]):\n",
    "      if not any([b_j%i for b_j in b]):\n",
    "        arr.append(i)\n",
    "  return len(arr)\n",
    "\n",
    "if __name__ == '__main__':\n",
    "  #fptr = open(os.environ['OUTPUT_PATH'], 'w')\n",
    "  #first_multiple_input = input().rstrip().split()\n",
    "  first_multiple_input = [2, 3]\n",
    "  n = int(first_multiple_input[0])\n",
    "  m = int(first_multiple_input[1])\n",
    "  #arr = list(map(int, input().rstrip().split()))\n",
    "  arr = [2, 4]\n",
    "  #brr = list(map(int, input().rstrip().split()))\n",
    "  brr = [16, 32, 96 ]\n",
    "  total = getTotalX(arr, brr)\n",
    "  print(total)\n",
    "  #fptr.write(str(total) + '\\n')\n",
    "  #fptr.close()"
   ]
  },
  {
   "cell_type": "markdown",
   "metadata": {},
   "source": [
    "## Grading Students"
   ]
  },
  {
   "cell_type": "markdown",
   "metadata": {},
   "source": [
    "HackerLand University has the following grading policy:\n",
    "\n",
    "- Every student receives a $grade$ in the inclusive range from $0$ to $100$.\n",
    "- Any $grade$ less than $40$ is a failing grade.\n",
    "\n",
    "Sam is a professor at the university and likes to round each student's $grade$ according to these rules:\n",
    "\n",
    "- If the difference between the $grade$ and the next multiple of $5$ is less than $3$, round $grade$ up to the next multiple of\n",
    "$5$.\n",
    "- If the value of $grade$ is less than $38$, no rounding occurs as the result will still be a failing grade."
   ]
  },
  {
   "cell_type": "code",
   "execution_count": 55,
   "metadata": {},
   "outputs": [
    {
     "name": "stdout",
     "output_type": "stream",
     "text": [
      "[75, 67, 40, 33, 85, 29, 57]\n"
     ]
    }
   ],
   "source": [
    "#!/bin/python3\n",
    "\n",
    "import math\n",
    "import os\n",
    "import random\n",
    "import re\n",
    "import sys\n",
    "\n",
    "#\n",
    "# Complete the 'gradingStudents' function below.\n",
    "#\n",
    "# The function is expected to return an INTEGER_ARRAY.\n",
    "# The function accepts INTEGER_ARRAY grades as parameter.\n",
    "#\n",
    "\n",
    "def gradingStudents(grades):\n",
    "  for i, grade in enumerate(grades):\n",
    "    mult = ((grade//5) + 1)*5\n",
    "    if grade>=38 and (mult-grade)<3:\n",
    "      grades[i] = mult\n",
    "  return grades\n",
    "\n",
    "if __name__ == '__main__':\n",
    "  #fptr = open(os.environ['OUTPUT_PATH'], 'w')\n",
    "\n",
    "  #grades_count = int(input().strip())\n",
    "  grades_count = 7\n",
    "  data = [73, 67, 38, 33, 84, 29, 57]\n",
    "\n",
    "  grades = []\n",
    "\n",
    "  for i in range(grades_count):\n",
    "    #grades_item = int(input().strip())\n",
    "    grades_item = data[i]\n",
    "\n",
    "    grades.append(grades_item)\n",
    "\n",
    "  result = gradingStudents(grades)\n",
    "  print(result)\n",
    "  #fptr.write('\\n'.join(map(str, result)))\n",
    "  #fptr.write('\\n')\n",
    "  #fptr.close()\n"
   ]
  },
  {
   "cell_type": "markdown",
   "metadata": {},
   "source": [
    "## Apend and Delete"
   ]
  },
  {
   "cell_type": "markdown",
   "metadata": {},
   "source": [
    "You have two strings of lowercase English letters. You can perform two types of operations on the first string:\n",
    "\n",
    "1. Append a lowercase English letter to the end of the string.\n",
    "1. Delete the last character of the string. Performing this operation on an empty string results in an empty string.\n",
    "\n",
    "Given an integer, $k$, and two strings, $s$ and $t$, determine whether or not you can convert $s# to by performing exactly $k$ of the above operations on $s$. If it's possible, print Yes. Otherwise, print No.\n",
    "\n",
    "### Function Description\n",
    "\n",
    "Complete the appendAndDelete function in the editor below. It should return a string, either Yes or No.\n",
    "\n",
    "appendAndDelete has the following parameter(s):\n",
    "\n",
    "- string s: the initial string\n",
    "- string t: the desired string\n",
    "- int k: the exact number of operations that must be performed\n",
    "\n",
    "### Returns\n",
    "\n",
    "- string: either Yes or No\n"
   ]
  },
  {
   "cell_type": "code",
   "execution_count": 187,
   "metadata": {},
   "outputs": [
    {
     "name": "stdout",
     "output_type": "stream",
     "text": [
      "Yes\n"
     ]
    }
   ],
   "source": [
    "#!/bin/python3\n",
    "\n",
    "import math\n",
    "import os\n",
    "import random\n",
    "import re\n",
    "import sys\n",
    "\n",
    "#\n",
    "# Complete the 'appendAndDelete' function below.\n",
    "#\n",
    "# The function is expected to return a STRING.\n",
    "# The function accepts following parameters:\n",
    "#  1. STRING s\n",
    "#  2. STRING t\n",
    "#  3. INTEGER k\n",
    "#\n",
    "\n",
    "def appendAndDelete(s, t, k):\n",
    "  # Write your code here\n",
    "  more = abs(len(s)- len(t))\n",
    "  equal = sum([ i==j and (s[k-1]==t[k-1] or k==0) for  k, (i,j) in enumerate(zip(s,t)) ])\n",
    "  diff = min([len(s), len(t) ]) - equal\n",
    "  if k == (len(s) + len(t)):\n",
    "    return ('Yes')\n",
    "  elif diff: \n",
    "    if not ((k-more)//2)%diff:\n",
    "      return ('Yes')\n",
    "    else:\n",
    "      return ('No')\n",
    "  else:\n",
    "    return('No')\n",
    "\n",
    "if __name__ == '__main__':\n",
    "  #fptr = open(os.environ['OUTPUT_PATH'], 'w')\n",
    "  #s = 'asdfqwertyuighjkzxcvasdfqwertyuighjkzxcvasdfqwertyuighjkzxcvasdfqwertyuighjkzxcvasdfqwertyuighjkzxcv' #input()\n",
    "  #t = 'bsdfqwertyuighjkzxcvasdfqwertyuighjkzxcvasdfqwertyuighjkzxcvasdfqwertyuighjkzxcvasdfqwertyuighjkzxcv' #input()\n",
    "  #k =  100    #int(input().strip())\n",
    "  #s = 'hackerhappy' #input()\n",
    "  #t = 'hackerrank' #input()\n",
    "  #k =  9    #int(input().strip())\n",
    "  s = 'aba' #input()\n",
    "  t = 'aba' #input()\n",
    "  k =  6    #int(input().strip())\n",
    "  result = appendAndDelete(s, t, k)\n",
    "  print(result)\n",
    "  #fptr.write(result + '\\n')\n",
    "  #fptr.close()\n"
   ]
  },
  {
   "cell_type": "code",
   "execution_count": 263,
   "metadata": {},
   "outputs": [
    {
     "name": "stdout",
     "output_type": "stream",
     "text": [
      "Yes\n"
     ]
    }
   ],
   "source": [
    "# Editorial\n",
    "s = 'aba'\n",
    "t = 'aba'\n",
    "k = 7 #moves\n",
    "for moves in reversed(range(1, k + 1)):\n",
    "  if s == t[:len(s)] and len(t) - len(s) == moves or len(s) == 0:\n",
    "    break\n",
    "  s = s[:-1]\n",
    "print (\"Yes\" if len(t) - len(s) <= moves else \"No\")"
   ]
  },
  {
   "cell_type": "markdown",
   "metadata": {},
   "source": [
    "## Angry Professor"
   ]
  },
  {
   "cell_type": "markdown",
   "metadata": {},
   "source": [
    "A Discrete Mathematics professor has a class of students. Frustrated with their lack of discipline, the professor decides to cancel class if fewer than some number of students are present when class starts. Arrival times go from on time ($arrivalTime<=0$) to arrived late ($arrivalTime>0$).\n",
    "\n",
    "Given the arrival time of each student and a threshhold number of attendees, determine if the class is cancelled. "
   ]
  },
  {
   "cell_type": "code",
   "execution_count": 280,
   "metadata": {},
   "outputs": [
    {
     "name": "stdout",
     "output_type": "stream",
     "text": [
      "YES\n",
      "NO\n"
     ]
    }
   ],
   "source": [
    "import math\n",
    "import os\n",
    "import random\n",
    "import re\n",
    "import sys\n",
    "\n",
    "#\n",
    "# Complete the 'angryProfessor' function below.\n",
    "#\n",
    "# The function is expected to return a STRING.\n",
    "# The function accepts following parameters:\n",
    "#  1. INTEGER k\n",
    "#  2. INTEGER_ARRAY a\n",
    "#\n",
    "\n",
    "def angryProfessor(k, a):\n",
    "  # Write your code here\n",
    "  return 'NO' if sum([i<=0 for i in a])>=k else 'YES'\n",
    "\n",
    "if __name__ == '__main__':\n",
    "  #fptr = open(os.environ['OUTPUT_PATH'], 'w')\n",
    "\n",
    "  t = 2#int(input().strip())\n",
    "  n1 = [ [4, 3], [4, 2] ]\n",
    "  a1 = [[-1, -3, 4, 2], [0, -1, 2, 1] ]\n",
    "\n",
    "  for t_itr in range(t):\n",
    "    first_multiple_input = n1[t_itr] #input().rstrip().split()\n",
    "    n = int(first_multiple_input[0])\n",
    "    k = int(first_multiple_input[1])\n",
    "    a = a1[t_itr]  #list(map(int, input().rstrip().split()))\n",
    "    result = angryProfessor(k, a)\n",
    "    #fptr.write(result + '\\n')\n",
    "    print(result)\n",
    "  #fptr.close()\n"
   ]
  }
 ],
 "metadata": {
  "kernelspec": {
   "display_name": "Python 3.8.11 ('base')",
   "language": "python",
   "name": "python3"
  },
  "language_info": {
   "codemirror_mode": {
    "name": "ipython",
    "version": 3
   },
   "file_extension": ".py",
   "mimetype": "text/x-python",
   "name": "python",
   "nbconvert_exporter": "python",
   "pygments_lexer": "ipython3",
   "version": "3.8.11"
  },
  "orig_nbformat": 4,
  "vscode": {
   "interpreter": {
    "hash": "1f386286da8fb93a24d26f8c525392020acf295f98d16f04efa07bd1460f1f53"
   }
  }
 },
 "nbformat": 4,
 "nbformat_minor": 2
}
