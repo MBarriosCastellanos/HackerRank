{
 "cells": [
  {
   "cell_type": "markdown",
   "metadata": {},
   "source": [
    "# Implementation"
   ]
  },
  {
   "cell_type": "markdown",
   "metadata": {},
   "source": [
    "## Number Line Jumps"
   ]
  },
  {
   "cell_type": "markdown",
   "metadata": {},
   "source": [
    "You are choreographing a circus show with various animals. For one act, you are given two kangaroos on a number line ready to jump in the positive direction (i.e, toward positive infinity).\n",
    "\n",
    "- The first kangaroo starts at location $x1$ and moves at a rate of $v1$ meters per jump.\n",
    "- The second kangaroo starts at location $x2$ and moves at a rate of $v2$ meters per jump.\n",
    "\n",
    "\n",
    "You have to figure out a way to get both kangaroos at the same location at the same time as part of the show. If it is possible, return YES, otherwise return NO. "
   ]
  },
  {
   "cell_type": "code",
   "execution_count": 4,
   "metadata": {},
   "outputs": [
    {
     "name": "stdout",
     "output_type": "stream",
     "text": [
      "9482 9965\n",
      "11693 12015\n",
      "13904 14065\n",
      "16115 16115\n",
      "YES\n"
     ]
    }
   ],
   "source": [
    "#!/bin/python3\n",
    "\n",
    "import math\n",
    "import os\n",
    "import random\n",
    "import re\n",
    "import sys\n",
    "\n",
    "#\n",
    "# Complete the 'kangaroo' function below.\n",
    "#\n",
    "# The function is expected to return a STRING.\n",
    "# The function accepts following parameters:\n",
    "#  1. INTEGER x1\n",
    "#  2. INTEGER v1\n",
    "#  3. INTEGER x2\n",
    "#  4. INTEGER v2\n",
    "#\n",
    "\n",
    "def kangaroo(x1, v1, x2, v2):\n",
    "  # Write your code here\n",
    "  if (x1>x2 and v1>v2) or (x2>x1 and v2>v1):\n",
    "    return 'NO'\n",
    "  else:\n",
    "    x1, x2 = min([x1, x2]), max([x1, x2])\n",
    "    v1, v2 = max([v1, v2]), min([v1, v2])\n",
    "    while x2>x1:\n",
    "      x1 = x1+v1\n",
    "      x2 = x2+v2\n",
    "      print(x1, x2)\n",
    "    if x1==x2:\n",
    "      return 'YES'\n",
    "    else:\n",
    "      return 'NO'  \n",
    "        \n",
    "\n",
    "\n",
    "if __name__ == '__main__':\n",
    "    #fptr = open(os.environ['OUTPUT_PATH'], 'w')\n",
    "\n",
    "    #first_multiple_input = input().rstrip().split()\n",
    "    #first_multiple_input = [0, 2, 5, 3]\n",
    "    #first_multiple_input = [0, 3, 4, 2]\n",
    "    first_multiple_input = [7271, 2211, 7915, 2050]\n",
    "\n",
    "    x1 = int(first_multiple_input[0])\n",
    "    v1 = int(first_multiple_input[1])\n",
    "    x2 = int(first_multiple_input[2])\n",
    "    v2 = int(first_multiple_input[3])\n",
    "    result = kangaroo(x1, v1, x2, v2)\n",
    "    print(result)\n",
    "    #fptr.write(result + '\\n')\n",
    "\n",
    "    #fptr.close()\n"
   ]
  },
  {
   "cell_type": "code",
   "execution_count": null,
   "metadata": {},
   "outputs": [],
   "source": []
  }
 ],
 "metadata": {
  "kernelspec": {
   "display_name": "Python 3.8.11 ('base')",
   "language": "python",
   "name": "python3"
  },
  "language_info": {
   "codemirror_mode": {
    "name": "ipython",
    "version": 3
   },
   "file_extension": ".py",
   "mimetype": "text/x-python",
   "name": "python",
   "nbconvert_exporter": "python",
   "pygments_lexer": "ipython3",
   "version": "3.8.11"
  },
  "orig_nbformat": 4,
  "vscode": {
   "interpreter": {
    "hash": "1f386286da8fb93a24d26f8c525392020acf295f98d16f04efa07bd1460f1f53"
   }
  }
 },
 "nbformat": 4,
 "nbformat_minor": 2
}
